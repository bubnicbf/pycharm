{
 "cells": [
  {
   "cell_type": "markdown",
   "metadata": {},
   "source": [
    "# Python for Scientists"
   ]
  },
  {
   "cell_type": "markdown",
   "metadata": {},
   "source": [
    "This notebook came to life during a python-course for scientists at University of Heidelberg, Germany. The lecture can be found [online](http://wwwstaff.ari.uni-heidelberg.de/kruijssen/pycourse/), was given by [Diederik Kruijssen](http://www.diederikkruijssen.com/) and is based on a [course](http://www2.mpia-hd.mpg.de/~robitaille/PY4SCI_SS_2015/) created by [Thomas Robitaille](http://www.thomasrobitaille.com) who was astrophysicist at Max Planck Institute for Astronomy in Heidelberg and one of the co-ordinators and led developers for the [Astropy](http://www.astropy.org) project.\n",
    "\n",
    "The snipets in here are my personal notes on the course.\n",
    "\n",
    "Useful links in general: \n",
    "- [PEP 8 -- Style Guide for Python Code](https://www.python.org/dev/peps/pep-0008/)\n",
    "- [interp1d -- Interpolation Function](http://docs.scipy.org/doc/scipy/reference/generated/scipy.interpolate.interp1d.html#scipy.interpolate.interp1d)\n",
    "- [scipy.interpolate -- Interpolation documentation](http://docs.scipy.org/doc/scipy/reference/interpolate.html)\n",
    "- [Wikipedia on splines](https://en.wikipedia.org/wiki/Spline_%28mathematics%29)\n",
    "- [Integration Tutorial -- documentation](http://docs.scipy.org/doc/scipy/reference/tutorial/integrate.html)"
   ]
  },
  {
   "cell_type": "markdown",
   "metadata": {},
   "source": [
    "## Basics"
   ]
  },
  {
   "cell_type": "markdown",
   "metadata": {},
   "source": [
    "## Complex Numbers"
   ]
  },
  {
   "cell_type": "code",
   "execution_count": 1,
   "metadata": {
    "collapsed": false
   },
   "outputs": [
    {
     "name": "stdout",
     "output_type": "stream",
     "text": [
      "(-9+13j)\n"
     ]
    }
   ],
   "source": [
    "# Complex Numbers are manipulated as other number +,-,*,**,/ (except //)\n",
    "c = complex(3., 4.) * complex(1., 3.)\n",
    "print(c)"
   ]
  },
  {
   "cell_type": "code",
   "execution_count": 2,
   "metadata": {
    "collapsed": false,
    "scrolled": true
   },
   "outputs": [
    {
     "name": "stdout",
     "output_type": "stream",
     "text": [
      "-9.0\n",
      "13.0\n",
      "<class 'float'>\n",
      "<class 'float'>\n"
     ]
    }
   ],
   "source": [
    "# Access the numbers seperately\n",
    "print(c.real)\n",
    "print(c.imag)\n",
    "\n",
    "# Real and Imaginary Part are floats\n",
    "print(type(c.real))\n",
    "print(type(c.imag))"
   ]
  },
  {
   "cell_type": "markdown",
   "metadata": {},
   "source": [
    "## Lists"
   ]
  },
  {
   "cell_type": "code",
   "execution_count": 3,
   "metadata": {
    "collapsed": false
   },
   "outputs": [
    {
     "name": "stdout",
     "output_type": "stream",
     "text": [
      "Hello, world!\n",
      "Hello, world!\n"
     ]
    }
   ],
   "source": [
    "#Given string a, make new string without the word egg\n",
    "a = \"Hello, egg world!\"\n",
    "\n",
    "# long solution with split and iteration \n",
    "# would catch egg at every position\n",
    "result = []\n",
    "b = a.split()\n",
    "for i in b: \n",
    "    if i == 'egg':\n",
    "        continue\n",
    "    else: \n",
    "        result.append(i)\n",
    "print(\" \".join(result))\n",
    "\n",
    "# one-line-solution: \n",
    "print(\" \".join(a.split(\" egg \")))"
   ]
  },
  {
   "cell_type": "code",
   "execution_count": 4,
   "metadata": {
    "collapsed": false
   },
   "outputs": [
    {
     "data": {
      "text/plain": [
       "8"
      ]
     },
     "execution_count": 4,
     "metadata": {},
     "output_type": "execute_result"
    }
   ],
   "source": [
    "# Find the number of times A appears in s\n",
    "\n",
    "s = \"CAGTACCAAGTGAAAGAT\"\n",
    "\n",
    "s.count('A')"
   ]
  },
  {
   "cell_type": "code",
   "execution_count": 5,
   "metadata": {
    "collapsed": false
   },
   "outputs": [
    {
     "name": "stdout",
     "output_type": "stream",
     "text": [
      "[1, 2, 3, 4, 5, 6]\n",
      "[1, 2, 3, 4, 5, 6]\n"
     ]
    }
   ],
   "source": [
    "# Make a new list from two existing ones: \n",
    "\n",
    "a = [1, 2, 3]\n",
    "b = [4, 5, 6]\n",
    "\n",
    "print(a + b) # adding lists is extending by default\n",
    "a.extend(b) # remember, no return value\n",
    "print(a)"
   ]
  },
  {
   "cell_type": "markdown",
   "metadata": {},
   "source": [
    "## Dictionaries"
   ]
  },
  {
   "cell_type": "code",
   "execution_count": 6,
   "metadata": {
    "collapsed": false
   },
   "outputs": [
    {
     "name": "stdout",
     "output_type": "stream",
     "text": [
      "Hello world today is it nice outside\n"
     ]
    }
   ],
   "source": [
    "# Make your own dictionary to translate English words into German\n",
    "\n",
    "mydict = {'Hallo': 'Hello',\n",
    "          'Welt': 'world',\n",
    "          'es': 'it',\n",
    "          'ist': 'is',\n",
    "          'schön': 'nice',\n",
    "          'heute':'today',\n",
    "          'draußen': 'outside'}\n",
    "\n",
    "sentence = \"Hallo Welt heute ist es schön draußen\"\n",
    "wordlist = sentence.split()\n",
    "result = []\n",
    "for i in wordlist:\n",
    "    result.append(mydict[i])\n",
    "print(\" \".join(result))"
   ]
  },
  {
   "cell_type": "code",
   "execution_count": 7,
   "metadata": {
    "collapsed": false
   },
   "outputs": [
    {
     "name": "stdout",
     "output_type": "stream",
     "text": [
      "The Zen of Python, by Tim Peters\n",
      "\n",
      "Beautiful is better than ugly.\n",
      "Explicit is better than implicit.\n",
      "Simple is better than complex.\n",
      "Complex is better than complicated.\n",
      "Flat is better than nested.\n",
      "Sparse is better than dense.\n",
      "Readability counts.\n",
      "Special cases aren't special enough to break the rules.\n",
      "Although practicality beats purity.\n",
      "Errors should never pass silently.\n",
      "Unless explicitly silenced.\n",
      "In the face of ambiguity, refuse the temptation to guess.\n",
      "There should be one-- and preferably only one --obvious way to do it.\n",
      "Although that way may not be obvious at first unless you're Dutch.\n",
      "Now is better than never.\n",
      "Although never is often better than *right* now.\n",
      "If the implementation is hard to explain, it's a bad idea.\n",
      "If the implementation is easy to explain, it may be a good idea.\n",
      "Namespaces are one honking great idea -- let's do more of those!\n"
     ]
    }
   ],
   "source": [
    "# Python comes with built-in philosophy of programming :D \n",
    "import this"
   ]
  },
  {
   "cell_type": "markdown",
   "metadata": {},
   "source": [
    "## Cryptography Practice\n",
    "\n",
    "The following snippets are encrypted with the Ceasar cipher, wich is basically shifting all letters of the alphabet by a fixed value. "
   ]
  },
  {
   "cell_type": "code",
   "execution_count": 8,
   "metadata": {
    "collapsed": false
   },
   "outputs": [
    {
     "name": "stdout",
     "output_type": "stream",
     "text": [
      "congratulations you have succeeded in decrypting the string\n"
     ]
    }
   ],
   "source": [
    "encrypted = \"pbatenghyngvbaf lbh unir fhpprrqrq va qrpelcgvat gur fgevat\"\n",
    "decrypted = \"\"\n",
    "abc = \"abcdefghijklmnopqrstuvwxyz\"\n",
    "letters = list(abc)\n",
    "shift = 13\n",
    "\n",
    "for i in range(len(encrypted)):\n",
    "    if(encrypted[i] == ' '):\n",
    "        decrypted += \" \"\n",
    "        continue\n",
    "    else:\n",
    "        # find the index of the letter in the alphabet:\n",
    "        index = 0\n",
    "        for j in range(len(letters)):\n",
    "            if letters[j] == encrypted[i]:\n",
    "                index = j\n",
    "                break\n",
    "            else: \n",
    "                continue\n",
    "                \n",
    "        # thift the found index by shift=13:\n",
    "        index = (index - shift)%(len(abc))\n",
    "        \n",
    "        #now decrypt and add numbers to result string\n",
    "        decrypted += letters[index]\n",
    "\n",
    "#show the result which should be the decrypted string:        \n",
    "print(decrypted)"
   ]
  },
  {
   "cell_type": "code",
   "execution_count": 9,
   "metadata": {
    "collapsed": false
   },
   "outputs": [
    {
     "name": "stdout",
     "output_type": "stream",
     "text": [
      "0 gwc uivioml bw nqvl bpm zqopb apqnb\n",
      "1 fvb thuhnlk av mpuk aol ypnoa zopma\n",
      "2 eua sgtgmkj zu lotj znk xomnz ynolz\n",
      "3 dtz rfsflji yt knsi ymj wnlmy xmnky\n",
      "4 csy qerekih xs jmrh xli vmklx wlmjx\n",
      "5 brx pdqdjhg wr ilqg wkh uljkw vkliw\n",
      "6 aqw ocpcigf vq hkpf vjg tkijv ujkhv\n",
      "7 zpv nbobhfe up gjoe uif sjhiu tijgu\n",
      "8 you managed to find the right shift\n",
      "9 xnt lzmzfdc sn ehmc sgd qhfgs rghes\n",
      "10 wms kylyecb rm dglb rfc pgefr qfgdr\n",
      "11 vlr jxkxdba ql cfka qeb ofdeq pefcq\n",
      "12 ukq iwjwcaz pk bejz pda necdp odebp\n",
      "13 tjp hvivbzy oj adiy ocz mdbco ncdao\n",
      "14 sio guhuayx ni zchx nby lcabn mbczn\n",
      "15 rhn ftgtzxw mh ybgw max kbzam labym\n",
      "16 qgm esfsywv lg xafv lzw jayzl kzaxl\n",
      "17 pfl drerxvu kf wzeu kyv izxyk jyzwk\n",
      "18 oek cqdqwut je vydt jxu hywxj ixyvj\n",
      "19 ndj bpcpvts id uxcs iwt gxvwi hwxui\n",
      "20 mci aobousr hc twbr hvs fwuvh gvwth\n",
      "21 lbh znantrq gb svaq gur evtug fuvsg\n",
      "22 kag ymzmsqp fa ruzp ftq dustf eturf\n",
      "23 jzf xlylrpo ez qtyo esp ctrse dstqe\n",
      "24 iye wkxkqon dy psxn dro bsqrd crspd\n",
      "25 hxd vjwjpnm cx orwm cqn arpqc bqroc\n"
     ]
    }
   ],
   "source": [
    "#For part 2, the shift is unknown, so we iterate over every possible shift:\n",
    "encrypted = \"gwc uivioml bw nqvl bpm zqopb apqnb\"\n",
    "decrypted = \"\"\n",
    "abc = \"abcdefghijklmnopqrstuvwxyz\"\n",
    "letters = list(abc)\n",
    "\n",
    "for shift in range(len(abc)):\n",
    "    decrypted = \"\"\n",
    "    for i in range(len(encrypted)):\n",
    "        if(encrypted[i] == ' '):\n",
    "            decrypted += \" \"\n",
    "            continue\n",
    "        else:\n",
    "            # find the index of the letter in the alphabet:\n",
    "            index = 0\n",
    "            for j in range(len(letters)):\n",
    "                if letters[j] == encrypted[i]:\n",
    "                    index = j\n",
    "                    break\n",
    "                else: \n",
    "                    continue\n",
    "\n",
    "            # thift the found index by shift=13:\n",
    "            index = (index - shift)%(len(abc))\n",
    "\n",
    "            #now decrypt and add numbers to result string\n",
    "            decrypted += letters[index]\n",
    "    #if ('shift' in decrypted): #this makes it easy if we know one word\n",
    "    print(shift, decrypted)\n",
    "    \n",
    "#Being able to read only one line, the shift is 8"
   ]
  },
  {
   "cell_type": "markdown",
   "metadata": {},
   "source": [
    "## Functions"
   ]
  },
  {
   "cell_type": "code",
   "execution_count": 28,
   "metadata": {
    "collapsed": false
   },
   "outputs": [
    {
     "name": "stdout",
     "output_type": "stream",
     "text": [
      "Your number 431 is a prime number!\n"
     ]
    },
    {
     "data": {
      "text/plain": [
       "True"
      ]
     },
     "execution_count": 28,
     "metadata": {},
     "output_type": "execute_result"
    }
   ],
   "source": [
    "# Create a function that returns True if a given number is prime number.\n",
    "\n",
    "def is_prime(n):\n",
    "    if(n == 0):\n",
    "        print(\"Funny, you chose 0. Try again.\")\n",
    "        return False;\n",
    "    elif(n == 1):\n",
    "        print(\"Funny, you chose 1. Try again.\")\n",
    "        return False;\n",
    "    for i in range(n)[2:]: \n",
    "        if(n%i == 0):\n",
    "            print(\"Sorry,\", i, \"divides your number \", n, \".\")\n",
    "            return False\n",
    "    print(\"Your number\", n, \"is a prime number!\")\n",
    "    return True\n",
    "\n",
    "is_prime(431)"
   ]
  },
  {
   "cell_type": "code",
   "execution_count": 30,
   "metadata": {
    "collapsed": false
   },
   "outputs": [
    {
     "data": {
      "text/plain": [
       "120"
      ]
     },
     "execution_count": 30,
     "metadata": {},
     "output_type": "execute_result"
    }
   ],
   "source": [
    "# Create a function to calculate the factorial of a given number\n",
    "\n",
    "def factorial(n):\n",
    "    if(n==1):\n",
    "        return 1\n",
    "    else:\n",
    "        return n*factorial(n-1)\n",
    "\n",
    "factorial(5)"
   ]
  },
  {
   "cell_type": "code",
   "execution_count": 31,
   "metadata": {
    "collapsed": false
   },
   "outputs": [
    {
     "data": {
      "text/plain": [
       "4.333333333333333"
      ]
     },
     "execution_count": 31,
     "metadata": {},
     "output_type": "execute_result"
    }
   ],
   "source": [
    "# Write a function that returns the mean of a given list of values\n",
    "\n",
    "l = [1, 3, 4, 5, 6, 7]\n",
    "\n",
    "def mean(l):\n",
    "    sum = 0\n",
    "    for i in l:\n",
    "        sum += i\n",
    "    return sum/len(l)\n",
    "\n",
    "mean(l)"
   ]
  },
  {
   "cell_type": "markdown",
   "metadata": {},
   "source": [
    "## Reading Files"
   ]
  },
  {
   "cell_type": "code",
   "execution_count": null,
   "metadata": {
    "collapsed": true
   },
   "outputs": [],
   "source": [
    "# Read a file by creating a file object: \n",
    "f = open('data/data.txt', 'r')\n",
    "# f is not the data but a file handle which points to the file\n",
    "# check this with: type(f)\n",
    "data = f.read() \n",
    "# this reads the whole file \n",
    "# and puts the contents inside one string called data\n",
    "# after finishing, the file hanlde f points to the end of the file\n",
    "\n",
    "f.close()\n",
    "# call this after finishing, and for saving the file"
   ]
  },
  {
   "cell_type": "code",
   "execution_count": null,
   "metadata": {
    "collapsed": true
   },
   "outputs": [],
   "source": [
    "# To read the file line by line:\n",
    "f = open('data/data.txt', 'r')\n",
    "for line in f:\n",
    "    print(repr(line))\n",
    "    line = line.strip() # gets rid of \\n at the end of each line\n",
    "    columns = line.split() # splits data in a list called columns"
   ]
  },
  {
   "cell_type": "code",
   "execution_count": null,
   "metadata": {
    "collapsed": true
   },
   "outputs": [],
   "source": [
    "# All together: \n",
    "\n",
    "# Open file\n",
    "f = open('data/data.txt', 'r')\n",
    "\n",
    "# Read and ignore header lines\n",
    "header1 = f.readline() #.readline() only reads one line at the time\n",
    "header2 = f.readline()\n",
    "header3 = f.readline()\n",
    "\n",
    "# Loop over lines and extract variables of interest\n",
    "for line in f:\n",
    "    line = line.strip()\n",
    "    columns = line.split()\n",
    "    name = columns[2]\n",
    "    jmag = float(columns[3])\n",
    "    print(name, jmag)\n",
    "\n",
    "# Close file\n",
    "f.close()"
   ]
  },
  {
   "cell_type": "markdown",
   "metadata": {},
   "source": [
    "## Writing Files"
   ]
  },
  {
   "cell_type": "code",
   "execution_count": null,
   "metadata": {
    "collapsed": true
   },
   "outputs": [],
   "source": [
    "f = open('data_new1.txt', 'w') #open a new file in write mode\n",
    "f.write(\"Hello, World!\\n\") #write a line to the file\n",
    "f.writelines(['spam\\n', 'egg\\n', 'spam\\n']) #writelines takes a list of strings\n",
    "f.close() # close the file to save it"
   ]
  },
  {
   "cell_type": "code",
   "execution_count": null,
   "metadata": {
    "collapsed": true
   },
   "outputs": [],
   "source": [
    "# the with-statement is a \"context manager\"\n",
    "# opens a file and holds it as f, closes when whith block ends\n",
    "\n",
    "with open('data/data_new.txt', 'w') as f:\n",
    "    f.write('spam\\n')"
   ]
  },
  {
   "cell_type": "code",
   "execution_count": null,
   "metadata": {
    "collapsed": true
   },
   "outputs": [],
   "source": [
    "# Exercise on extracting two colums out of four and saving in new file\n",
    "\n",
    "# Open file\n",
    "f = open('data/autofahrt.txt', 'r')\n",
    "w = open('data/autofahrt_extract.txt', 'w')\n",
    "\n",
    "# Read and ignore header lines\n",
    "header1 = f.readline()\n",
    "header2 = f.readline()\n",
    "\n",
    "# Loop over lines and extract variables of interest\n",
    "for line in f:\n",
    "    line = line.strip()\n",
    "    columns = line.split()\n",
    "    time = columns[0]\n",
    "    a = float(columns[1])\n",
    "    b = float(columns[0])\n",
    "    \n",
    "    w.write(str(a) + \", \" +  str(b) + \"\\n\")\n",
    "\n",
    "# Close the files\n",
    "f.close()\n",
    "w.close()"
   ]
  },
  {
   "cell_type": "markdown",
   "metadata": {
    "collapsed": true
   },
   "source": [
    "## String formatting"
   ]
  },
  {
   "cell_type": "code",
   "execution_count": 6,
   "metadata": {
    "collapsed": false
   },
   "outputs": [
    {
     "data": {
      "text/plain": [
       "'0.3333333333333333 0.3333333333333333 2.0'"
      ]
     },
     "execution_count": 6,
     "metadata": {},
     "output_type": "execute_result"
    }
   ],
   "source": [
    "\"{0} {0} {2}\".format(1./3., 2./7., 2.)\n",
    "# values in {} refer to position in argument list"
   ]
  },
  {
   "cell_type": "code",
   "execution_count": 7,
   "metadata": {
    "collapsed": false
   },
   "outputs": [
    {
     "data": {
      "text/plain": [
       "'     0.333'"
      ]
     },
     "execution_count": 7,
     "metadata": {},
     "output_type": "execute_result"
    }
   ],
   "source": [
    "\"{0:10.3f}\".format(1./3.)\n",
    "# 0 for position in argument list\n",
    "# 10 total length of the string\n",
    "# 3 number of decimal places\n",
    "# f for floating point number"
   ]
  },
  {
   "cell_type": "code",
   "execution_count": 8,
   "metadata": {
    "collapsed": false
   },
   "outputs": [
    {
     "data": {
      "text/plain": [
       "'0000000004'"
      ]
     },
     "execution_count": 8,
     "metadata": {},
     "output_type": "execute_result"
    }
   ],
   "source": [
    "\"{0:010d}\".format(4)\n",
    "# add leading zeros\n",
    "# d for integer"
   ]
  },
  {
   "cell_type": "code",
   "execution_count": 12,
   "metadata": {
    "collapsed": false
   },
   "outputs": [
    {
     "data": {
      "text/plain": [
       "'4         '"
      ]
     },
     "execution_count": 12,
     "metadata": {},
     "output_type": "execute_result"
    }
   ],
   "source": [
    "\"{variable:<10d}\".format(variable=4)\n",
    "# align to the left\n",
    "# passing variables by name is possible"
   ]
  },
  {
   "cell_type": "code",
   "execution_count": 16,
   "metadata": {
    "collapsed": false
   },
   "outputs": [
    {
     "data": {
      "text/plain": [
       "'08.07.2013'"
      ]
     },
     "execution_count": 16,
     "metadata": {},
     "output_type": "execute_result"
    }
   ],
   "source": [
    "\"{day:02d}.{month:02d}.{year:04d}\".format(year=2013, month=7, day=8)"
   ]
  },
  {
   "cell_type": "code",
   "execution_count": 35,
   "metadata": {
    "collapsed": false
   },
   "outputs": [
    {
     "data": {
      "text/plain": [
       "'2017-03-28 16:50:47.804463'"
      ]
     },
     "execution_count": 35,
     "metadata": {},
     "output_type": "execute_result"
    }
   ],
   "source": [
    "import datetime\n",
    "str(datetime.datetime.now())"
   ]
  },
  {
   "cell_type": "markdown",
   "metadata": {},
   "source": [
    "## Memory aspects"
   ]
  },
  {
   "cell_type": "code",
   "execution_count": 51,
   "metadata": {
    "collapsed": false
   },
   "outputs": [
    {
     "data": {
      "text/plain": [
       "(4508514784, 4539104072, 4511150912)"
      ]
     },
     "execution_count": 51,
     "metadata": {},
     "output_type": "execute_result"
    }
   ],
   "source": [
    "# Python has built in id function that tells identity of its argument\n",
    "a = 1\n",
    "b = [2,3,4]\n",
    "c = 'string'\n",
    "id(a), id(b), id(c)"
   ]
  },
  {
   "cell_type": "code",
   "execution_count": 52,
   "metadata": {
    "collapsed": false
   },
   "outputs": [
    {
     "data": {
      "text/plain": [
       "4539104072"
      ]
     },
     "execution_count": 52,
     "metadata": {},
     "output_type": "execute_result"
    }
   ],
   "source": [
    "# if we want to copy a list, we cant just assign\n",
    "# because that will create a reference to the same object in memory:\n",
    "d = b\n",
    "id(b)"
   ]
  },
  {
   "cell_type": "code",
   "execution_count": 53,
   "metadata": {
    "collapsed": false
   },
   "outputs": [
    {
     "data": {
      "text/plain": [
       "[2, 3, 4, 42]"
      ]
     },
     "execution_count": 53,
     "metadata": {},
     "output_type": "execute_result"
    }
   ],
   "source": [
    "# so manipulating d affects b\n",
    "b.append(42)\n",
    "d"
   ]
  },
  {
   "cell_type": "code",
   "execution_count": 55,
   "metadata": {
    "collapsed": false
   },
   "outputs": [
    {
     "data": {
      "text/plain": [
       "([2, 3, 4, 42, 13], [2, 3, 4, 42, 13, 13], 4539384520)"
      ]
     },
     "execution_count": 55,
     "metadata": {},
     "output_type": "execute_result"
    }
   ],
   "source": [
    "# to truly copy, we have to deepcopy\n",
    "from copy import deepcopy\n",
    "e = deepcopy(b)\n",
    "b.append(13)\n",
    "e, b, id(e)"
   ]
  },
  {
   "cell_type": "code",
   "execution_count": 56,
   "metadata": {
    "collapsed": false
   },
   "outputs": [
    {
     "data": {
      "text/plain": [
       "4539553544"
      ]
     },
     "execution_count": 56,
     "metadata": {},
     "output_type": "execute_result"
    }
   ],
   "source": [
    "# Note that slicing usually creates a copy, too.\n",
    "f = e[:]\n",
    "id(f)"
   ]
  },
  {
   "cell_type": "code",
   "execution_count": 57,
   "metadata": {
    "collapsed": true
   },
   "outputs": [],
   "source": [
    "# immutable objects: float, int, string\n",
    "# mutable : list, dictionary\n",
    "# passing variables to function passes them by reference\n",
    "# some methods modify objects in-place: a.append(), modifies a\n",
    "# other methods return a copy: string.upper() returns a copy"
   ]
  },
  {
   "cell_type": "code",
   "execution_count": 66,
   "metadata": {
    "collapsed": true
   },
   "outputs": [],
   "source": [
    "# with numpy, pay attention: \n",
    "# the reason for the following differences is great performance with numpy!\n",
    "import numpy as np"
   ]
  },
  {
   "cell_type": "code",
   "execution_count": 59,
   "metadata": {
    "collapsed": false
   },
   "outputs": [
    {
     "data": {
      "text/plain": [
       "array([0, 1, 2, 1, 4, 5, 6, 7, 8, 9])"
      ]
     },
     "execution_count": 59,
     "metadata": {},
     "output_type": "execute_result"
    }
   ],
   "source": [
    "x = np.arange(10)\n",
    "y = x\n",
    "y[3] = 1\n",
    "x\n",
    "# Behavior from lists"
   ]
  },
  {
   "cell_type": "code",
   "execution_count": 61,
   "metadata": {
    "collapsed": false
   },
   "outputs": [
    {
     "data": {
      "text/plain": [
       "array([0, 1, 2, 3, 4, 5, 1, 7, 8, 9])"
      ]
     },
     "execution_count": 61,
     "metadata": {},
     "output_type": "execute_result"
    }
   ],
   "source": [
    "x = np.arange(10)\n",
    "y = x[::2]\n",
    "y[3] = 1\n",
    "x\n",
    "# with numpy a slice is still a reference, not a copy!"
   ]
  },
  {
   "cell_type": "code",
   "execution_count": 62,
   "metadata": {
    "collapsed": false
   },
   "outputs": [
    {
     "data": {
      "text/plain": [
       "array([0, 0, 0, 0, 0, 5, 6, 7, 8, 9])"
      ]
     },
     "execution_count": 62,
     "metadata": {},
     "output_type": "execute_result"
    }
   ],
   "source": [
    "# This can be used in masking\n",
    "x = np.arange(10)\n",
    "x[x < 5] = 0.\n",
    "x"
   ]
  },
  {
   "cell_type": "code",
   "execution_count": 64,
   "metadata": {
    "collapsed": false
   },
   "outputs": [
    {
     "data": {
      "text/plain": [
       "(array([0, 1, 2, 3, 4, 5, 6, 7, 8, 9]), array([9, 3, 2, 2]))"
      ]
     },
     "execution_count": 64,
     "metadata": {},
     "output_type": "execute_result"
    }
   ],
   "source": [
    "# One exception to the referencing: \n",
    "x = np.arange(10)\n",
    "y = x[[1,3,2,2]]  # returns a new array, not a view\n",
    "y[0] = 9\n",
    "x, y\n",
    "# However, be aware that the view is actually pointing to a subset of the original array"
   ]
  },
  {
   "cell_type": "code",
   "execution_count": 65,
   "metadata": {
    "collapsed": false
   },
   "outputs": [
    {
     "data": {
      "text/plain": [
       "(array([0, 1, 2, 3, 4, 5, 6, 7, 8, 9]),\n",
       " array([-1,  1,  2,  3,  4,  5,  6,  7,  8,  9]))"
      ]
     },
     "execution_count": 65,
     "metadata": {},
     "output_type": "execute_result"
    }
   ],
   "source": [
    "# Force a copy with numpy\n",
    "x = np.arange(10)\n",
    "y = x.copy()\n",
    "y[0] = -1\n",
    "x, y"
   ]
  },
  {
   "cell_type": "markdown",
   "metadata": {},
   "source": [
    "**A nice little exercise to think through**\n",
    "\n",
    "\n",
    "What will ``a`` be after the following?\n",
    "\n",
    "    a = [1, 3., [1, 2, 3], 'hello']\n",
    "    b = a[0]\n",
    "    b = 4.\n",
    "\n",
    "What will ``c`` be after the following?\n",
    "\n",
    "    c = [1, 3., [1, 2, 3], 'hello']\n",
    "    d = c[2]\n",
    "    d.append(8)\n",
    "\n",
    "What will ``e`` be after the following?\n",
    "\n",
    "    e = [1, 3., [1, 2, 3], 'hello']\n",
    "    f = e[2]\n",
    "    f = [1, 2]\n",
    "\n",
    "What will ``g`` be after the following?\n",
    "\n",
    "    g = [1, 2, 3, 4]\n",
    "    h = g[::2]\n",
    "    h[0] = 9\n",
    "\n",
    "What will ``i`` be after the following?\n",
    "\n",
    "    import numpy as np\n",
    "    i = np.array([1, 2, 3, 4])\n",
    "    j = i[::2]\n",
    "    j[0] = 9"
   ]
  },
  {
   "cell_type": "markdown",
   "metadata": {},
   "source": [
    "## Scipy Fitting\n",
    "\n",
    "Examples of the functionality include:\n",
    "- Integration (scipy.integrate)\n",
    "- Optimization/Fitting (scipy.optimize)\n",
    "- Interpolation (scipy.interpolate)\n",
    "- Fourier Transforms (scipy.fftpack)\n",
    "- Signal Processing (scipy.signal)\n",
    "- Linear Algebra (scipy.linalg)\n",
    "- Spatial data structures and algorithms (scipy.spatial)\n",
    "- Statistics (scipy.stats)\n",
    "- Multi-dimensional image processing (scipy.ndimage)"
   ]
  },
  {
   "cell_type": "code",
   "execution_count": 67,
   "metadata": {
    "collapsed": true
   },
   "outputs": [],
   "source": [
    "# Routines for fitting:\n",
    "import numpy as np\n",
    "from scipy.optimize import curve_fit\n",
    "%matplotlib inline\n",
    "import numpy as np\n",
    "import matplotlib.pyplot as plt"
   ]
  },
  {
   "cell_type": "code",
   "execution_count": 69,
   "metadata": {
    "collapsed": false
   },
   "outputs": [
    {
     "data": {
      "text/plain": [
       "[<matplotlib.lines.Line2D at 0x1111ba400>]"
      ]
     },
     "execution_count": 69,
     "metadata": {},
     "output_type": "execute_result"
    },
    {
     "data": {
      "image/png": "[encoded data removed]",
      "text/plain": [
       "<matplotlib.figure.Figure at 0x111137d68>"
      ]
     },
     "metadata": {},
     "output_type": "display_data"
    }
   ],
   "source": [
    "# Fake dataset with some noise:\n",
    "x = np.random.uniform(0., 100., 100)\n",
    "y = 3. * x + 2. + np.random.normal(0., 10., 100)\n",
    "plt.plot(x, y, '.')"
   ]
  },
  {
   "cell_type": "markdown",
   "metadata": {},
   "source": [
    "**Important Note:**  curve_fit by default uses sigma just as weights, i.e., as hints how important a point should be in the least-squares computation. To compute the covariance matrix, it then estimates the actual error essentially from the scatter in the data. If, however, your data points come with (reliable) error estimates, that actually throws away a lot of information, and the covariance matrix is less expressive than it could be. To make curve_fit treat its sigma argument as actual error estimates and use their absolute (rather than relative, as with weights) values in pcov calculation, just pass absolute_sigma=True."
   ]
  },
  {
   "cell_type": "code",
   "execution_count": 71,
   "metadata": {
    "collapsed": false
   },
   "outputs": [
    {
     "data": {
      "text/plain": [
       "<Container object of 3 artists>"
      ]
     },
     "execution_count": 71,
     "metadata": {},
     "output_type": "execute_result"
    },
    {
     "data": {
      "image/png": "[encoded data removed]",
      "text/plain": [
       "<matplotlib.figure.Figure at 0x111337470>"
      ]
     },
     "metadata": {},
     "output_type": "display_data"
    }
   ],
   "source": [
    "# Exercise on Fitting:\n",
    "\n",
    "# Generate random data points: \n",
    "x = np.random.uniform(0., 10., 100)\n",
    "y = np.polyval([1, 2, -3], x) + np.random.normal(0., 10., 100)\n",
    "e = np.random.uniform(5, 10, 100)\n",
    "plt.errorbar(x,y,e, linestyle='none', marker='.')"
   ]
  },
  {
   "cell_type": "code",
   "execution_count": 82,
   "metadata": {
    "collapsed": false
   },
   "outputs": [
    {
     "data": {
      "text/plain": [
       "[<matplotlib.lines.Line2D at 0x112486400>]"
      ]
     },
     "execution_count": 82,
     "metadata": {},
     "output_type": "execute_result"
    },
    {
     "data": {
      "image/png": "[encoded data removed]",
      "text/plain": [
       "<matplotlib.figure.Figure at 0x1120bd630>"
      ]
     },
     "metadata": {},
     "output_type": "display_data"
    }
   ],
   "source": [
    "# Fit a line and a parabola to it and overplot the two models on top of the data:\n",
    "\n",
    "def parabola(x,a,b,c):\n",
    "    return a*(x-c)**2+b\n",
    "\n",
    "def line(x,m,t):\n",
    "    return m*x+t\n",
    "\n",
    "popt1, pcov1 = curve_fit(parabola, x, y, sigma=e)\n",
    "popt2, pcov2 = curve_fit(line, x, y, sigma=e)\n",
    "\n",
    "plt.errorbar(x, y, e, linestyle='none', marker='.')\n",
    "plt.plot(x,parabola(x, *popt1), color='orange', marker='.', linestyle='none')\n",
    "plt.plot(x,line(x, *popt2), color='green')"
   ]
  },
  {
   "cell_type": "code",
   "execution_count": 91,
   "metadata": {
    "collapsed": false
   },
   "outputs": [
    {
     "data": {
      "text/plain": [
       "[<matplotlib.lines.Line2D at 0x111d490b8>]"
      ]
     },
     "execution_count": 91,
     "metadata": {},
     "output_type": "execute_result"
    },
    {
     "data": {
      "image/png": "[encoded data removed]",
      "text/plain": [
       "<matplotlib.figure.Figure at 0x112e18358>"
      ]
     },
     "metadata": {},
     "output_type": "display_data"
    }
   ],
   "source": [
    "# The following code reads in the file and removes bad values\n",
    "import numpy as np\n",
    "date, temperature = np.loadtxt('data/munich_temperatures_average_with_bad_data.txt', unpack=True)\n",
    "keep = np.abs(temperature) < 90\n",
    "date = date[keep]\n",
    "temperature = temperature[keep]\n",
    "\n",
    "# Fit function to data: \n",
    "def fit(t,a,b,c):\n",
    "    return a*np.cos(2*np.pi*t+b)+c\n",
    "# t is time in years\n",
    "\n",
    "popt, pcov = curve_fit(fit, date[5000:6500], temperature[5000:6500])\n",
    "\n",
    "plt.plot(date, temperature)\n",
    "plt.axis((2008, 2012, -15, 30))\n",
    "plt.plot(date, fit(date, *popt), linewidth=3, color='orange')"
   ]
  },
  {
   "cell_type": "code",
   "execution_count": 96,
   "metadata": {
    "collapsed": false
   },
   "outputs": [
    {
     "name": "stdout",
     "output_type": "stream",
     "text": [
      "Best fit parameters: a,b,c\n",
      " [-10.30350917  12.32100043   9.12316747]\n",
      "Hottest daily average: -1.18034170243\n",
      "Coldest daily average: 19.4266766365\n"
     ]
    }
   ],
   "source": [
    "# What are the best-fit values of the parameters? \n",
    "print(\"Best fit parameters: a,b,c\\n\", popt)\n",
    "\n",
    "# What is the overall average temperature in Munich, \n",
    "# That's encapsulated in parameter c, the offset of the cos-function\n",
    "\n",
    "# and what are the typical daily average values predicted by the model for the coldest and hottest time of year? \n",
    "print(\"Hottest daily average:\", popt[2]+popt[0])\n",
    "print(\"Coldest daily average:\", popt[2]-popt[0])\n",
    "\n",
    "# What is the meaning of the b parameter, and does its value make sense?\n",
    "# b is the time-offset of the hottest month to the start of the year 2012\n",
    "# it makes sense, because september is usually hottest"
   ]
  },
  {
   "cell_type": "markdown",
   "metadata": {},
   "source": [
    "## Interpolation"
   ]
  },
  {
   "cell_type": "code",
   "execution_count": 2,
   "metadata": {
    "collapsed": false
   },
   "outputs": [
    {
     "data": {
      "text/plain": [
       "array(2.0)"
      ]
     },
     "execution_count": 2,
     "metadata": {},
     "output_type": "execute_result"
    }
   ],
   "source": [
    "from scipy.interpolate import interp1d\n",
    "import numpy as np\n",
    "#create fake dataset\n",
    "x = np.array([0., 1., 3., 4.])\n",
    "y = np.array([0., 4., 2.7, 2.08])\n",
    "\n",
    "# interpolate linearly by creating interpolation function\n",
    "f = interp1d(x,y) \n",
    "\n",
    "# now we can interpolate to any value of x within the original bounds\n",
    "f(0.5)"
   ]
  },
  {
   "cell_type": "code",
   "execution_count": 3,
   "metadata": {
    "collapsed": false
   },
   "outputs": [
    {
     "data": {
      "text/plain": [
       "array([ 2.   ,  3.675,  3.025,  2.39 ])"
      ]
     },
     "execution_count": 3,
     "metadata": {},
     "output_type": "execute_result"
    }
   ],
   "source": [
    "# it's also possible to interpolate several values at the same time\n",
    "f(np.array([0.5, 1.5, 2.5, 3.5]))"
   ]
  },
  {
   "cell_type": "code",
   "execution_count": 7,
   "metadata": {
    "collapsed": false
   },
   "outputs": [
    {
     "data": {
      "text/plain": [
       "array(-10.0)"
      ]
     },
     "execution_count": 7,
     "metadata": {},
     "output_type": "execute_result"
    }
   ],
   "source": [
    "# interpolating outside original array gives error\n",
    "#f(-1.)\n",
    "\n",
    "# instead, we have to tell interp1d to set new value:\n",
    "f = interp1d(x, y, bounds_error=False, fill_value=-10.)\n",
    "f(-1.)"
   ]
  },
  {
   "cell_type": "code",
   "execution_count": 8,
   "metadata": {
    "collapsed": false
   },
   "outputs": [
    {
     "data": {
      "text/plain": [
       "array(2.6312499999999983)"
      ]
     },
     "execution_count": 8,
     "metadata": {},
     "output_type": "execute_result"
    }
   ],
   "source": [
    "# by default interp1d uses linear interpolation, but others are possible:\n",
    "# e.g. cubic spline interpolation\n",
    "f = interp1d(x,y,kind='cubic')\n",
    "f(0.5)"
   ]
  },
  {
   "cell_type": "code",
   "execution_count": 11,
   "metadata": {
    "collapsed": false
   },
   "outputs": [
    {
     "data": {
      "text/plain": [
       "<matplotlib.legend.Legend at 0x106b21ac8>"
      ]
     },
     "execution_count": 11,
     "metadata": {},
     "output_type": "execute_result"
    },
    {
     "data": {
      "image/png": "[encoded data removed]",
      "text/plain": [
       "<matplotlib.figure.Figure at 0x1065ea550>"
      ]
     },
     "metadata": {},
     "output_type": "display_data"
    }
   ],
   "source": [
    "# Combine different ways to interpolate: \n",
    "import matplotlib.pyplot as plt\n",
    "import numpy as np\n",
    "%matplotlib inline\n",
    "\n",
    "xp=np.arange(0,4,0.1)\n",
    "f = interp1d(x,y, kind='linear') \n",
    "g = interp1d(x, y,kind=2) # equivalent to 'quadratic'\n",
    "h = interp1d(x,y,kind=3)  # equivalen to 'cubic'\n",
    "\n",
    "plt.plot(xp,f(xp),xp,g(xp),xp,h(xp))\n",
    "plt.xlim(0,6)\n",
    "plt.legend(['linear','quadratic spline','cubic spline'])"
   ]
  },
  {
   "cell_type": "code",
   "execution_count": 12,
   "metadata": {
    "collapsed": false
   },
   "outputs": [
    {
     "name": "stdout",
     "output_type": "stream",
     "text": [
      "[ 0.   0.5  1.   1.5  2.   2.5  3.   3.5]\n",
      "[ 0.       2.63125  4.       4.39875  4.12     3.45625  2.7      2.14375]\n",
      "[ -4.44089210e-15   2.63125000e+00   4.00000000e+00   4.39875000e+00\n",
      "   4.12000000e+00   3.45625000e+00   2.70000000e+00   2.14375000e+00]\n"
     ]
    }
   ],
   "source": [
    "def orig(x):\n",
    "    return 3.11-3.11*(x-1)*(x-1)+0.5*x+0.39*x*x*x\n",
    "\n",
    "xp=np.arange(0,4,0.5)\n",
    "print (xp)\n",
    "print (orig(xp))\n",
    "print (h(xp))"
   ]
  },
  {
   "cell_type": "markdown",
   "metadata": {},
   "source": [
    "## Integration"
   ]
  },
  {
   "cell_type": "markdown",
   "metadata": {},
   "source": [
    "help(integrate) in ipython shell gives:\n",
    "\n",
    "Methods for Integrating Functions given function object.\n",
    "\n",
    "   - quad          -- General purpose integration.\n",
    "   - dblquad       -- General purpose double integration.\n",
    "   - tplquad       -- General purpose triple integration.\n",
    "   - fixed_quad    -- Integrate func(x) using Gaussian quadrature of order n.\n",
    "   - quadrature    -- Integrate with given tolerance using Gaussian quadrature.\n",
    "   - romberg       -- Integrate func using Romberg integration.\n",
    "\n",
    " Methods for Integrating Functions given fixed samples.\n",
    "\n",
    "   - trapz         -- Use trapezoidal rule to compute integral from samples.\n",
    "   - cumtrapz      -- Use trapezoidal rule to cumulatively compute integral.\n",
    "   - simps         -- Use Simpson's rule to compute integral from samples.\n",
    "   - romb          -- Use Romberg Integration to compute integral from (2**k + 1) evenly-spaced samples.\n",
    "   \n",
    "There are two kinds of functions: \n",
    "- those that integrate actual Python functions\n",
    "- those that integrate nmerical functions defined by Numpy arrays"
   ]
  },
  {
   "cell_type": "code",
   "execution_count": 14,
   "metadata": {
    "collapsed": false
   },
   "outputs": [
    {
     "name": "stdout",
     "output_type": "stream",
     "text": [
      "(10.999999999999998, 1.221245327087672e-13)\n"
     ]
    }
   ],
   "source": [
    "# Define a function:\n",
    "\n",
    "def simple_function(x):\n",
    "    return 3. * x**2 + 2. * x + 1.\n",
    "\n",
    "# integrate with quad for \"quadrature\", working out area under curve\n",
    "from scipy.integrate import quad\n",
    "print(quad(simple_function, 1., 2.))"
   ]
  },
  {
   "cell_type": "code",
   "execution_count": 15,
   "metadata": {
    "collapsed": false
   },
   "outputs": [
    {
     "name": "stdout",
     "output_type": "stream",
     "text": [
      "11.0000000005\n"
     ]
    }
   ],
   "source": [
    "# Define a function as Numpy Arrays\n",
    "\n",
    "x = np.linspace(1., 2., 1000)\n",
    "y = 3. * x**2 + 2. * x + 1.\n",
    "\n",
    "# Integrate using Simpson's rule\n",
    "from scipy.integrate import simps\n",
    "print(simps(y, x=x))\n",
    "\n",
    "# This is useful... \n",
    "# when actual data cannot be represented as simple function\n",
    "# when function is only available numerically"
   ]
  },
  {
   "cell_type": "code",
   "execution_count": 16,
   "metadata": {
    "collapsed": false
   },
   "outputs": [
    {
     "name": "stdout",
     "output_type": "stream",
     "text": [
      "11.000000501\n"
     ]
    }
   ],
   "source": [
    "# There is also the trapez function which works similarly\n",
    "# but does trapezium integration\n",
    "\n",
    "from scipy.integrate import trapz\n",
    "print(trapz(y, x=x))"
   ]
  },
  {
   "cell_type": "code",
   "execution_count": 30,
   "metadata": {
    "collapsed": false
   },
   "outputs": [
    {
     "name": "stdout",
     "output_type": "stream",
     "text": [
      "(1.8600412169450524, 2.065060585804193e-14)\n",
      "1.86122755542\n"
     ]
    }
   ],
   "source": [
    "# Write a function that takes x and parameters for a Gaussian\n",
    "# and returns the value of the Gaussian at x\n",
    "\n",
    "def gauss_eval(x, a, b, sig, mu):\n",
    "    return (1/(sig*np.sqrt(2*np.pi)))*np.exp((-0.5)*((x-mu)/sig)**2)\n",
    "                                             \n",
    "def gauss_two(x,a,b,c):\n",
    "    return a*np.exp(-(x-b)**2/(2*c**2))\n",
    "\n",
    "# use quad to compute the integral and compare to what you would expect\n",
    "print(quad(gauss_two, 1, 2, args=(2,3,4)))\n",
    "\n",
    "# compute two arrays x and y that contain the Gaussian for fixed values x\n",
    "# and try and compute the integral using simps\n",
    "\n",
    "x = np.linspace(0,2,100)\n",
    "y = gauss_two(x, 1,2,3)\n",
    "print(simps(y, x=x))"
   ]
  },
  {
   "cell_type": "markdown",
   "metadata": {},
   "source": [
    "## Differential equations\n",
    "\n",
    "Important task in scientific computing is to solve differential equations, as for example the damped oscillation\n",
    "$$\\ddot{x} + 2 \\gamma \\dot{x} + k x = 0$$\n",
    "For the *odeint* solver, contained in scipy.integrate, the differential equation needs to be split up into a system of first-order equations:\n",
    "\n",
    "(1)    $\\dot{x} = v$\n",
    "\n",
    "(2)    $\\dot{v} = -k x - 2 g v$"
   ]
  },
  {
   "cell_type": "code",
   "execution_count": 31,
   "metadata": {
    "collapsed": true
   },
   "outputs": [],
   "source": [
    "import numpy as np\n",
    "import matplotlib.pyplot as plt\n",
    "%matplotlib inline\n",
    "\n",
    "from scipy.integrate import odeint\n",
    "\n",
    "def diffeq(x, t,k,g):\n",
    "\n",
    "    #define/clear derivative\n",
    "    dxdt = np.zeros(2)\n",
    "\n",
    "    \"\"\" differential equation for damped oscillation\n",
    "        split into first-order equation \n",
    "         x. = v\n",
    "         v. = - k x - 2 gamma v\n",
    "    \"\"\"\n",
    "    dxdt[0] = x[1]\n",
    "    dxdt[1] = -k*x[0] - 2* g*x[1]\n",
    "\n",
    "    return dxdt\n",
    "\n",
    "\"\"\" constants \"\"\"\n",
    "k=0.1\n",
    "g=0.025\n",
    "\n",
    "x    = np.array([2.0,-0.8])         # initial position\n",
    "time = np.linspace(0.0,100.0,100)   # evaluation times\n",
    "\n",
    "\"\"\" calling the solver \"\"\"\n",
    "solution = odeint(diffeq, x, time, args=(k,g))"
   ]
  },
  {
   "cell_type": "code",
   "execution_count": 32,
   "metadata": {
    "collapsed": true
   },
   "outputs": [],
   "source": [
    "# The corresponding analytical solution is:\n",
    "def damped_oscillation(t,x,k,g):\n",
    "    om=np.sqrt(k-g**2)\n",
    "    \n",
    "    A=x[1]/om\n",
    "    B=x[0]\n",
    "    \n",
    "    return (A*np.sin(om*t)+B*np.cos(-om*t))*np.exp(-g*t)"
   ]
  },
  {
   "cell_type": "code",
   "execution_count": 33,
   "metadata": {
    "collapsed": false
   },
   "outputs": [
    {
     "data": {
      "text/plain": [
       "<matplotlib.legend.Legend at 0x106ae6550>"
      ]
     },
     "execution_count": 33,
     "metadata": {},
     "output_type": "execute_result"
    },
    {
     "data": {
      "image/png": "[encoded data removed]",
      "text/plain": [
       "<matplotlib.figure.Figure at 0x106ad31d0>"
      ]
     },
     "metadata": {},
     "output_type": "display_data"
    }
   ],
   "source": [
    "plt.plot(time,solution[:,0],time,damped_oscillation(time,x,k,g))\n",
    "plt.legend(['Numerical','Analytical'])"
   ]
  },
  {
   "cell_type": "markdown",
   "metadata": {},
   "source": [
    "a) Plot the motion of a critically damped oscillator $\\gamma$ = $2 \\sqrt{k}$ \n",
    "\n",
    "b) Extend the differential equation by a forcing $f(x)=A_0 \\cos (\\omega_0 t)$ [choose $A_0$ and $\\omega_0$].\n",
    "Consider the initial behaviour of the system."
   ]
  },
  {
   "cell_type": "markdown",
   "metadata": {},
   "source": [
    "## Python Errors\n",
    "\n",
    "most important thing to look at: last line\n",
    "\n",
    "first line shows what top-level code was executed when the error occured\n",
    "\n",
    "following blocks: Python dives down, shows where the error happened\n",
    "\n",
    "Using the **debugger**: \n",
    "- run %debug in next cell after error has occured\n",
    "- type in variable names to see what they are at the moment\n",
    "- exit with ``exit``\n",
    "\n",
    "Catch exceptions, but this is tricky, as it can hide hints for debugging. The Zen of Python has all the wisdom: Errors should never pass silently.\n",
    "Unless explicitly silenced.\n",
    "\n",
    "Raise errors, which makes execution halt. Behind it is an exception class. Don't claim more than you know in your error message. Don't catch an exception to just re-raise on of yor design, this could hide the root cause of the problem.\n",
    "\n",
    "- ValueError: some value doesn't meet your expectation\n",
    "- IOError: something is wrong with a file\n",
    "- KeyError: if a lookup of somoething failed"
   ]
  },
  {
   "cell_type": "code",
   "execution_count": 38,
   "metadata": {
    "collapsed": false
   },
   "outputs": [
    {
     "name": "stdout",
     "output_type": "stream",
     "text": [
      "nope. doesn't work, gives a TypeError\n"
     ]
    }
   ],
   "source": [
    "s = 'hello'\n",
    "try:\n",
    "    s[1] = 'a'\n",
    "except TypeError:\n",
    "    print('nope. doesn\\'t work, gives a TypeError')\n",
    "except ValueError:\n",
    "    print('This gives a value error')\n",
    "except:\n",
    "    print('This catches any error')"
   ]
  },
  {
   "cell_type": "code",
   "execution_count": 39,
   "metadata": {
    "collapsed": false
   },
   "outputs": [
    {
     "ename": "ValueError",
     "evalue": "But writing good, descriptive error messages is.",
     "output_type": "error",
     "traceback": [
      "\u001b[0;31m-----------------------------------------------------------------\u001b[0m",
      "\u001b[0;31mValueError\u001b[0m                      Traceback (most recent call last)",
      "\u001b[0;32m<ipython-input-39-ad94e212a4b9>\u001b[0m in \u001b[0;36m<module>\u001b[0;34m()\u001b[0m\n\u001b[1;32m      1\u001b[0m \u001b[0;31m# Raising exceptions is not hard,\u001b[0m\u001b[0;34m\u001b[0m\u001b[0;34m\u001b[0m\u001b[0m\n\u001b[0;32m----> 2\u001b[0;31m \u001b[0;32mraise\u001b[0m \u001b[0mValueError\u001b[0m\u001b[0;34m(\u001b[0m\u001b[0;34m\"But writing good, descriptive error messages is.\"\u001b[0m\u001b[0;34m)\u001b[0m\u001b[0;34m\u001b[0m\u001b[0m\n\u001b[0m",
      "\u001b[0;31mValueError\u001b[0m: But writing good, descriptive error messages is."
     ]
    }
   ],
   "source": [
    "# Raising exceptions is not hard, \n",
    "raise ValueError(\"But writing good, descriptive error messages is.\")"
   ]
  },
  {
   "cell_type": "markdown",
   "metadata": {},
   "source": [
    "# Accessing Web Pages\n",
    "\n",
    "One can access data files on the hard drive, but Python also allows you to access remote data, for example on the internet. The easiest way to do this is to use the [requests](https://pypi.python.org/pypi/requests) module. To start off, you just can get the URL:"
   ]
  },
  {
   "cell_type": "code",
   "execution_count": 41,
   "metadata": {
    "collapsed": false
   },
   "outputs": [
    {
     "name": "stdout",
     "output_type": "stream",
     "text": [
      "<!DOCTYPE html>\n",
      "<html>\n",
      "<head>\n",
      "<script>\n",
      "  (function(i,s,o,g,r,a,m){i['GoogleAnalyticsObject']=r;i[r]=i[r]||function(){\n",
      "  (i[r].q=i[r].q||[]).push(arguments)},i[r].l=1*new Date();a=s.createElement(o),\n",
      "  m=s.getElementsByTagName(o)[0];a.async=1;a.src=g;m.parentNode.insertBefore(a,m)\n",
      "  })(window,documen\n"
     ]
    }
   ],
   "source": [
    "import requests\n",
    "\n",
    "response = requests.get('http://xkcd.com/353/')\n",
    "# response holds the response now, access content as text via text-property\n",
    "\n",
    "print(response.text[:300]) # only print first 300 characters"
   ]
  },
  {
   "cell_type": "code",
   "execution_count": 42,
   "metadata": {
    "collapsed": true
   },
   "outputs": [],
   "source": [
    "# let's download one of the full resolution files for Ice Coverage data in Pset2\n",
    "\n",
    "r2 = requests.get('http://wwwstaff.ari.uni-heidelberg.de/kruijssen/pycourse/data/20060313.npy')"
   ]
  },
  {
   "cell_type": "code",
   "execution_count": 43,
   "metadata": {
    "collapsed": false
   },
   "outputs": [
    {
     "data": {
      "text/plain": [
       "{'Date': 'Wed, 29 Mar 2017 06:51:41 GMT', 'Server': 'Apache/2.2.15 (Scientific Linux)', 'Last-Modified': 'Sun, 19 Feb 2017 09:44:48 GMT', 'ETag': '\"eb69e-4323d0-548deff606400\"', 'Accept-Ranges': 'bytes', 'Content-Length': '4400080', 'Connection': 'close', 'Content-Type': 'text/plain'}"
      ]
     },
     "execution_count": 43,
     "metadata": {},
     "output_type": "execute_result"
    }
   ],
   "source": [
    "r2.headers"
   ]
  },
  {
   "cell_type": "code",
   "execution_count": 44,
   "metadata": {
    "collapsed": false
   },
   "outputs": [
    {
     "data": {
      "text/plain": [
       "\"\\x93NUMPY\\x01\\x00F\\x00{'descr': '>f4', 'fortran_order': False, 'shape': (1100, 1000), }    \\n\\x00\\x00\\x00\\x00\\x00\\x00\\x00\\x00\\x00\\x00\\x00\\x00\\x00\\x00\\x00\\x00\\x00\\x00\\x00\\x00\\x00\\x00\\x00\\x00\\x00\\x00\\x00\\x00\\x00\\x00\\x00\\x00\\x00\\x00\\x00\\x00\\x00\\x00\\x00\\x00\\x00\\x00\\x00\\x00\\x00\\x00\\x00\\x00\\x00\\x00\\x00\\x00\\x00\\x00\\x00\\x00@å ;ÿÿÿÿAÂPRB;a\\x9dÿÿÿÿÿÿÿÿÿÿÿÿÿÿÿÿÿÿÿÿÿÿÿÿÿÿÿÿÿÿÿÿÿÿÿÿÿÿÿÿÿÿÿÿÿÿÿÿ\""
      ]
     },
     "execution_count": 44,
     "metadata": {},
     "output_type": "execute_result"
    }
   ],
   "source": [
    "r2.text[:200]"
   ]
  },
  {
   "cell_type": "code",
   "execution_count": 45,
   "metadata": {
    "collapsed": false
   },
   "outputs": [
    {
     "data": {
      "text/plain": [
       "b\"\\x93NUMPY\\x01\\x00F\\x00{'descr': '>f4', 'fortran_order': False, 'shape': (1100, 1000), }    \\n\\x00\\x00\\x00\\x00\\x00\\x00\\x00\\x00\\x00\\x00\\x00\\x00\\x00\\x00\\x00\\x00\\x00\\x00\\x00\\x00\\x00\\x00\\x00\\x00\\x00\\x00\\x00\\x00\\x00\\x00\\x00\\x00\\x00\\x00\\x00\\x00\\x00\\x00\\x00\\x00\\x00\\x00\\x00\\x00\\x00\\x00\\x00\\x00\\x00\\x00\\x00\\x00\\x00\\x00\\x00\\x00@\\xe5 ;\\xff\\xff\\xff\\xffA\\xc2PRB;a\\x9d\\xff\\xff\\xff\\xff\\xff\\xff\\xff\\xff\\xff\\xff\\xff\\xff\\xff\\xff\\xff\\xff\\xff\\xff\\xff\\xff\\xff\\xff\\xff\\xff\\xff\\xff\\xff\\xff\\xff\\xff\\xff\\xff\\xff\\xff\\xff\\xff\\xff\\xff\\xff\\xff\\xff\\xff\\xff\\xff\\xff\\xff\\xff\\xff\""
      ]
     },
     "execution_count": 45,
     "metadata": {},
     "output_type": "execute_result"
    }
   ],
   "source": [
    "# as this not seems to be text, but binary format,\n",
    "# the binary data of the response can be accessed via \n",
    "r2.content[:200]\n",
    "#note the b at the beginning indicating a binary byte-string"
   ]
  },
  {
   "cell_type": "code",
   "execution_count": 46,
   "metadata": {
    "collapsed": true
   },
   "outputs": [],
   "source": [
    "# We now open a new binary file and download the data to the file\n",
    "with open('20060313.npy', 'wb') as f:\n",
    "    f.write(r2.content)"
   ]
  },
  {
   "cell_type": "code",
   "execution_count": 47,
   "metadata": {
    "collapsed": false
   },
   "outputs": [
    {
     "data": {
      "text/plain": [
       "<matplotlib.image.AxesImage at 0x1074d8470>"
      ]
     },
     "execution_count": 47,
     "metadata": {},
     "output_type": "execute_result"
    },
    {
     "data": {
      "image/png": "[encoded data removed]",
      "text/plain": [
       "<matplotlib.figure.Figure at 0x1069df2e8>"
      ]
     },
     "metadata": {},
     "output_type": "display_data"
    }
   ],
   "source": [
    "# No we load the data and plot:\n",
    "\n",
    "import numpy as np\n",
    "data = np.load('20060313.npy')\n",
    "%matplotlib inline\n",
    "import matplotlib.pyplot as plt\n",
    "plt.figure(figsize=(5,5))\n",
    "plt.imshow(data, origin='lower')"
   ]
  },
  {
   "cell_type": "markdown",
   "metadata": {},
   "source": [
    "## APIs"
   ]
  },
  {
   "cell_type": "markdown",
   "metadata": {},
   "source": [
    "Imagine that you want to access some data online. \n",
    "A number of websites now offer an \"Application programming interface\" (or API) which is basically a way of accessing data is a machine-readable way. \n",
    "An example for weather data is http://openweathermap.org/API \n",
    "\n",
    "Let's however take an example from theoretical Astrophysics, which is the\n",
    "[Illustris simulation](http://www.illustris-project.org). *The routines we use below are presented and described on their web page.*\n",
    "\n",
    "Illustris is a cosmological simulation. It traces the positions and the formation of components such as dark matter, gas and stars across cosmic time from high-redshift to today. Extracting data at various cosmic times (=redshifts $z$), one can study, for instance, the gravitational collapse and merging history of galaxies and clusters of galaxies.\n",
    "\n",
    "We show here how to extract the dark matter particles inside haloes you can pick from the\n",
    "[illustris explorer](http://www.illustris-project.org/explorer) tool.\n",
    "\n",
    "Once we have picked a halo ID, we can download the data. For the access, we need the access key.\n",
    "This was generated for the use by this course (normally, every user has their own key.)"
   ]
  },
  {
   "cell_type": "code",
   "execution_count": 49,
   "metadata": {
    "collapsed": true
   },
   "outputs": [],
   "source": [
    "headers={\"api-key\":\"8a8338834d046c14e6d8c15c24f70dda\"} \n",
    "# 8a833... = key for Uni HD python course"
   ]
  },
  {
   "cell_type": "code",
   "execution_count": 50,
   "metadata": {
    "collapsed": false
   },
   "outputs": [
    {
     "name": "stdout",
     "output_type": "stream",
     "text": [
      "{\"simulations\":[{\"name\":\"Illustris-1\",\"num_snapshots\":134,\"url\":\"http://www.illustris-project.org/api/Illustris-1/\"},{\"name\":\"Illustris-1-Dark\",\"num_snapshots\":136,\"url\":\"http://www.illustris-project.org/api/Illustris-1-Dark/\"},{\"name\":\"Illustris-2\",\"num_snapshots\":136,\"url\":\"http://www.illustris-project.org/api/Illustris-2/\"},{\"name\":\"Illustris-2-Dark\",\"num_snapshots\":136,\"url\":\"http://www.illust\n"
     ]
    }
   ],
   "source": [
    "import requests\n",
    "r = requests.get('http://www.illustris-project.org/api/', headers=headers)\n",
    "print (r.text[:400])"
   ]
  },
  {
   "cell_type": "markdown",
   "metadata": {},
   "source": [
    "This is much shorter, but still not ideal for reading into Python in this form. The output details the available simulations and the number of snapshots in a format called JSON (\"JavaScript Object Notation\"). Python includes a library to easily read in this data:"
   ]
  },
  {
   "cell_type": "code",
   "execution_count": 53,
   "metadata": {
    "collapsed": false
   },
   "outputs": [],
   "source": [
    "import json\n",
    "data = json.loads(r.text)\n",
    "#data"
   ]
  },
  {
   "cell_type": "markdown",
   "metadata": {},
   "source": [
    "In fact, such a dictionary can be obtained at every level in the data tree (try, e.g., the next one http://www.illustris-project.org/api/Illustris-1/ )\n",
    "\n",
    "Now is the time to go to the Explorer and pick a (preferably massive) halo. Take note of the ID.\n",
    "\n",
    "Note that some haloes are situated at the boundary, make sure the object can be easily extracted.\n",
    "\n",
    "Specifications of data fields can be found [here](http://www.illustris-project.org/data/docs/specifications/)."
   ]
  },
  {
   "cell_type": "code",
   "execution_count": 54,
   "metadata": {
    "collapsed": true
   },
   "outputs": [],
   "source": [
    "id = 75               # choose your ID of the halo    75?   default=1030\n",
    "redshift = 0.5          # choose a redshift, will be converted to snapshot automatically.\n",
    "params = {'dm':'Coordinates'}\n",
    "\n",
    "url = \"http://www.illustris-project.org/api/Illustris-1/snapshots/z=\" + str(redshift) + \"/subhalos/\" + str(id)\n",
    "\n",
    "# read the parameters of the subhalo in the json format\n",
    "subhalo = requests.get(url, headers=headers).json()\n",
    "\n",
    "# read the cutout of the subhalo into memory\n",
    "cutout  = requests.get(url+\"/cutout.hdf5\", headers=headers, params=params)\n",
    "\n",
    "# extract the filename from the header information and build the output name\n",
    "filename= cutout.headers['content-disposition'].split(\"filename=\")[1]\n",
    "outname=filename.split(\".hdf5\")[0]+\"_z=\"+str(redshift)+\".hdf5\"\n",
    "\n",
    "# save the cutout to disk, use 'outname'\n",
    "with open(outname, 'wb') as f:\n",
    "    f.write(cutout.content)"
   ]
  },
  {
   "cell_type": "code",
   "execution_count": 55,
   "metadata": {
    "collapsed": false
   },
   "outputs": [
    {
     "data": {
      "text/plain": [
       "10.803635551919267"
      ]
     },
     "execution_count": 55,
     "metadata": {},
     "output_type": "execute_result"
    }
   ],
   "source": [
    "# The variable subhalo is a dictionary\n",
    "subhalo['mass_log_msun']"
   ]
  },
  {
   "cell_type": "markdown",
   "metadata": {},
   "source": [
    "The illustris data are in the [hdf5](https://support.hdfgroup.org/HDF5/) format. We need to write them to disk and\n",
    "reload them. For this, we need to import the h5py package and read the file using *h5py.File*\n",
    "\n",
    "The result is again a dictionary. We are here interested in the PartType1 key (dark matter), in particular the Coordinates."
   ]
  },
  {
   "cell_type": "code",
   "execution_count": 57,
   "metadata": {
    "collapsed": false
   },
   "outputs": [],
   "source": [
    "import h5py\n",
    "\n",
    "with h5py.File(outname) as f:\n",
    "    # we subtract the centre of the halo (extracted from the dictionary information in subhalo)\n",
    "    # from the particle coordinates\n",
    "    dx = f['PartType1']['Coordinates'][:,0] - subhalo['pos_x']\n",
    "    dy = f['PartType1']['Coordinates'][:,1] - subhalo['pos_y']\n",
    "    dz = f['PartType1']['Coordinates'][:,2] - subhalo['pos_z']"
   ]
  },
  {
   "cell_type": "markdown",
   "metadata": {},
   "source": [
    "## Dark matter halo Exercise\n",
    "\n",
    "Consider subhalo 75 or 1030 (choose) at the three redshifts z=0 (snapshot 135), z=0.5 (snapshot 103) and z=1 (snapshot 85).\n",
    "\n",
    "1. Look at the distribution of the dark matter particles.\n",
    "   Determine the total dark matter mass inside R=1 Mpc (ignore here the redshift and Hubble constant scaling of these units).\n",
    "\n",
    "2. Determine the \n",
    "   density profiles $\\rho = \\frac{d N}{dV}$ for the halo at these three redshifts.\n",
    "   $dN$ is the number of objects in the Volume $dV$.\n",
    "   Remember: *plt.hist* can be used to build histograms.\n",
    "\n",
    "   Can you find a redshift dependence?\n",
    "   \n",
    "3. (with time) Fit the functional form\n",
    "\n",
    "    $\\rho(r)=\\frac{A}{\\frac{r}{r_s} (1+\\frac{r}{r_s})^n}$\n",
    "\n",
    "   with n=3 or n=4 to the density profiles. Choose \"sensible\" fitting intervals."
   ]
  },
  {
   "cell_type": "markdown",
   "metadata": {},
   "source": [
    "**Note:** To simplify things, the following function was provided by the illustris project.\n",
    "\n",
    "It takes a path (such as 'url' above) and returns either the header information, or downloads binary data and returns the file name.\n",
    "\n",
    "(from the illustris documentation [here](http://www.illustris-project.org/data/docs/api/) )"
   ]
  },
  {
   "cell_type": "code",
   "execution_count": 58,
   "metadata": {
    "collapsed": true
   },
   "outputs": [],
   "source": [
    "def get(path, params=None):\n",
    "    # make HTTP GET request to path\n",
    "    headers = {\"api-key\":\"8a8338834d046c14e6d8c15c24f70dda\"}\n",
    "    r = requests.get(path, params=params, headers=headers)\n",
    "\n",
    "    # raise exception if response code is not HTTP SUCCESS (200)\n",
    "    r.raise_for_status()\n",
    "\n",
    "    if r.headers['content-type'] == 'application/json':\n",
    "        return r.json() # parse json responses automatically\n",
    "\n",
    "    if 'content-disposition' in r.headers:\n",
    "        filename = r.headers['content-disposition'].split(\"filename=\")[1]\n",
    "        with open(filename, 'wb') as f:\n",
    "            f.write(r.content)\n",
    "        return filename # return the filename string\n",
    "\n",
    "    return r"
   ]
  },
  {
   "cell_type": "code",
   "execution_count": 59,
   "metadata": {
    "collapsed": true
   },
   "outputs": [],
   "source": [
    "# Example how the function get(path) can be used:\n",
    "id = 75\n",
    "snapshot = 135\n",
    "params = {'dm':'Coordinates'}\n",
    "\n",
    "url = \"http://www.illustris-project.org/api/Illustris-1/snapshots/\" + str(snapshot) + \"/subhalos/\" + str(id)\n",
    "sub = get(url)                                    # get json response of subhalo properties\n",
    "saved_filename = get(url + \"/cutout.hdf5\",params) # get and save HDF5 cutout file\n",
    "\n",
    "with h5py.File(saved_filename) as f:              # read coordinates\n",
    "    dx = f['PartType1']['Coordinates'][:,0] - sub['pos_x']\n",
    "    dy = f['PartType1']['Coordinates'][:,1] - sub['pos_y']\n",
    "    dz = f['PartType1']['Coordinates'][:,2] - sub['pos_z']"
   ]
  },
  {
   "cell_type": "markdown",
   "metadata": {},
   "source": [
    "## Object Oriented Programming\n",
    "\n",
    "Group together related data and functions into objects, making it easier to design more complex programs. \n",
    "\n",
    "Traditional (procedural) programming: Set of instructions, read from top to bottom, only functions allow to avoid repetitive code.\n",
    "\n",
    "OOP: program is setting up number of types of objects and doing operations on them.\n",
    "\n",
    "Every Python object is an object!\n",
    "\n",
    "- - - \n",
    "\n",
    "Class: Blueprint for objects\n",
    "\n",
    "Instance of a class: particular object represented by the class\n",
    "\n",
    "Method: a function that is attached to a class, the *behaviour*\n",
    "\n",
    "Attributes of a class: variables attached to the object, the *state*\n",
    "\n",
    "---\n",
    "Why use objects?\n",
    "\n",
    "Classes may come in handy when you write more and more complex analysis. \n",
    "\n",
    "Example: For Astronomy, create class Particle, Star, Galaxy\n",
    "\n",
    "If you start to think of your program of what objects and basic operations are being represented, you may be able to write it more simply than if you were using only functions and procedural code. You may also be able to re-use classes for different projects if they are general enough!"
   ]
  },
  {
   "cell_type": "code",
   "execution_count": 61,
   "metadata": {
    "collapsed": false
   },
   "outputs": [
    {
     "data": {
      "text/plain": [
       "('HELLO', [4, 2, 1])"
      ]
     },
     "execution_count": 61,
     "metadata": {},
     "output_type": "execute_result"
    }
   ],
   "source": [
    "s = 'hello'\n",
    "l = [4,2,1]\n",
    "l.sort\n",
    "s.upper(), l\n",
    "# upper and sort are both methods\n",
    "# s and l are instances of the str and list class"
   ]
  },
  {
   "cell_type": "code",
   "execution_count": 68,
   "metadata": {
    "collapsed": true
   },
   "outputs": [],
   "source": [
    "# Write a class to define an object: \n",
    "\n",
    "class Person(object): # definition of the class Person\n",
    "                      # inside: collection of function\n",
    "                      # all functions have self as first argument, the object itself\n",
    "    def __init__(self, name): # __init__ method is automatically called when creating instance\n",
    "        self.name = name      # __init__ is equivalent to a constructor\n",
    "                              # self is the actual instance that is being created\n",
    "                              # and the method then takes the name of the person\n",
    "                              # and assigns it to the name attribute of the instance\n",
    "\n",
    "    def __str__(self):        # allows the str() to act on an instance of the Class person\n",
    "        return \"The Person {}\".format(self.name)\n",
    "    \n",
    "    def __repr__(self):       # allows python to say what kind of object this is\n",
    "                              # if str does not exist, python will use repr\n",
    "        return \"{}({})\".format(self.__class__.__name__, repr(self.name))\n",
    "   \n",
    "    def say_hello_to(self, other): # this function takes in another object\n",
    "                                   # it can pass any object as long as it has a name attribute\n",
    "        print(\"Hello \" + other.name + \", my name is \" + self.name)              \n",
    "                                     \n",
    "    def say_hello(self):      # prints a string containing the value of the name attribute of this instance\n",
    "        print(\"Hello, my name is \" + self.name)"
   ]
  },
  {
   "cell_type": "code",
   "execution_count": 63,
   "metadata": {
    "collapsed": false
   },
   "outputs": [
    {
     "name": "stdout",
     "output_type": "stream",
     "text": [
      "Hello, my name is Tom\n"
     ]
    }
   ],
   "source": [
    "# Use it: \n",
    "tom = Person('Tom') # Tom is instance of class person\n",
    "tom.say_hello()"
   ]
  },
  {
   "cell_type": "code",
   "execution_count": 66,
   "metadata": {
    "collapsed": false
   },
   "outputs": [
    {
     "name": "stdout",
     "output_type": "stream",
     "text": [
      "Hello, my name is Tom\n",
      "Hello, my name is Tom\n"
     ]
    }
   ],
   "source": [
    "tom.say_hello() # self is passed automatically, this is equivalent to \n",
    "Person.say_hello(tom) # passing instance explicitly to function"
   ]
  },
  {
   "cell_type": "code",
   "execution_count": 69,
   "metadata": {
    "collapsed": false
   },
   "outputs": [
    {
     "name": "stdout",
     "output_type": "stream",
     "text": [
      "Hello, my name is Alice\n",
      "Hello, my name is Bob\n",
      "Hello Bob, my name is Alice\n"
     ]
    }
   ],
   "source": [
    "alice = Person(\"Alice\")\n",
    "bob = Person(\"Bob\")\n",
    "alice.say_hello()\n",
    "bob.say_hello()\n",
    "alice.say_hello_to(bob)"
   ]
  },
  {
   "cell_type": "markdown",
   "metadata": {},
   "source": [
    "Note:\n",
    "* the 'str' definition serves to allow str to act on an instance of the Person class.\n",
    "* the 'repr' definition serves to allows python to say what kind of object this is. If str does not exist, python will use repr."
   ]
  },
  {
   "cell_type": "code",
   "execution_count": 70,
   "metadata": {
    "collapsed": false
   },
   "outputs": [
    {
     "name": "stdout",
     "output_type": "stream",
     "text": [
      "The Person Bob\n",
      "The Person Bob\n",
      "Person('Bob')\n"
     ]
    },
    {
     "data": {
      "text/plain": [
       "Person('Bob')"
      ]
     },
     "execution_count": 70,
     "metadata": {},
     "output_type": "execute_result"
    }
   ],
   "source": [
    "print(bob)  # using the str functionality\n",
    "print(str(bob)) # using the str functionality\n",
    "print(repr(bob))  # using the repr functionality\n",
    "bob  # using the repr functionality"
   ]
  },
  {
   "cell_type": "markdown",
   "metadata": {},
   "source": [
    "**Inheritance** = definie classes based on other classes"
   ]
  },
  {
   "cell_type": "code",
   "execution_count": 71,
   "metadata": {
    "collapsed": true
   },
   "outputs": [],
   "source": [
    "from scipy.integrate import simps\n",
    "\n",
    "class Scientist(Person): # Here we use Person instead of object\n",
    "                         # by default, Scientist will behave like a Person instance\n",
    "    \n",
    "    def integrate(self, x, y): # We can define some additional methods\n",
    "        return simps(y, x=x)"
   ]
  },
  {
   "cell_type": "code",
   "execution_count": 72,
   "metadata": {
    "collapsed": false
   },
   "outputs": [
    {
     "data": {
      "text/plain": [
       "10.0"
      ]
     },
     "execution_count": 72,
     "metadata": {},
     "output_type": "execute_result"
    }
   ],
   "source": [
    "alice = Scientist(\"Alice\")\n",
    "alice.integrate([1,2,3], [4,5,6])"
   ]
  },
  {
   "cell_type": "code",
   "execution_count": 74,
   "metadata": {
    "collapsed": false
   },
   "outputs": [
    {
     "name": "stdout",
     "output_type": "stream",
     "text": [
      "Hello Bob, my name is Alice\n",
      "Hello Eve, my name is Alice\n"
     ]
    }
   ],
   "source": [
    "eve = Scientist(\"Eve\")\n",
    "bob = Person(\"Bob\")\n",
    "alice.say_hello_to(bob)\n",
    "alice.say_hello_to(eve)"
   ]
  },
  {
   "cell_type": "markdown",
   "metadata": {},
   "source": [
    "**Attributes** = variables attached to the object\n",
    "\n",
    "Attributes are not static, so the can be changed from outside the class\n",
    "\n",
    "It is possible to create new attributes from the outside"
   ]
  },
  {
   "cell_type": "code",
   "execution_count": 75,
   "metadata": {
    "collapsed": false
   },
   "outputs": [
    {
     "name": "stdout",
     "output_type": "stream",
     "text": [
      "Hello, my name is Tom\n"
     ]
    }
   ],
   "source": [
    "p = Person('Tom')\n",
    "p.say_hello()"
   ]
  },
  {
   "cell_type": "code",
   "execution_count": 80,
   "metadata": {
    "collapsed": false
   },
   "outputs": [
    {
     "name": "stdout",
     "output_type": "stream",
     "text": [
      "Hello, my name is Alice\n"
     ]
    }
   ],
   "source": [
    "# we change the name attribute\n",
    "p.name = 'Alice'\n",
    "p.say_hello()"
   ]
  },
  {
   "cell_type": "code",
   "execution_count": 83,
   "metadata": {
    "collapsed": false
   },
   "outputs": [
    {
     "name": "stdout",
     "output_type": "stream",
     "text": [
      "Alice is 97 years old and still enjoys Python\n"
     ]
    }
   ],
   "source": [
    "# we create new age attribute\n",
    "p.age = 97\n",
    "print(p.name+' is '+str(p.age)+' years old and still enjoys Python')\n",
    "# this is typically a bad idea, \n",
    "# because you're violating the object's namespace (names the object manages)\n",
    "# it's not hard to break things in this way\n",
    "# Python does not keep you from doing such things,\n",
    "# because that would keep you from doing smart things. "
   ]
  },
  {
   "cell_type": "code",
   "execution_count": 84,
   "metadata": {
    "collapsed": false
   },
   "outputs": [
    {
     "data": {
      "text/plain": [
       "1"
      ]
     },
     "execution_count": 84,
     "metadata": {},
     "output_type": "execute_result"
    }
   ],
   "source": [
    "# Example for handling cartesian points in code: \n",
    "\n",
    "class Point(object):\n",
    "    def __init__(self, x, y, z):\n",
    "        self.x = x\n",
    "        self.y = y\n",
    "        self.z = z\n",
    "        \n",
    "pt = Point(1, 2, 3)\n",
    "pt.x"
   ]
  },
  {
   "cell_type": "code",
   "execution_count": null,
   "metadata": {
    "collapsed": true
   },
   "outputs": [],
   "source": [
    "# now you can pass a point in a single variable\n",
    "\n",
    "def find_separation(p1, p2):\n",
    "    return np.sqrt((p1.x - p2.x)**2 + (p1.y - p2.y)**2 + (p1.z - p2.z)**2)\n",
    "\n",
    "# instead of having to pass 3 variables for each point \n",
    "\n",
    "def find_separation(x1, y1, z1, x2, y2, z2):\n",
    "    return np.sqrt((x1 - x2)**2 + (y1 - y2)**2 + (z1 - z2)**2)"
   ]
  },
  {
   "cell_type": "markdown",
   "metadata": {},
   "source": [
    "**Exercise**\n",
    "\n",
    "1. Write a ``Particle`` class that can be used to represent a particle with a mass, a 3-d position, and a 3-d velocity.\n",
    "\n",
    "2. Write a method that can be used to compute the kinetic energy of the particle\n",
    "\n",
    "3. Write a method that takes another particle as an argument and finds the distance between the two particles\n",
    "\n",
    "4. Write a method that given a time interval ``dt`` will update the position of the particle to the new position based on the current position and velocity.\n",
    "\n",
    "5. Write a ``ChargedParticle`` class that inherits from the ``Particle`` class, but also has an attribute for the charge of the particle.\n",
    "\n",
    "6. Write examples of using these classes to test that the methods are working correctly."
   ]
  },
  {
   "cell_type": "code",
   "execution_count": null,
   "metadata": {
    "collapsed": true
   },
   "outputs": [],
   "source": []
  }
 ],
 "metadata": {
  "kernelspec": {
   "display_name": "Python 3",
   "language": "python",
   "name": "python3"
  },
  "language_info": {
   "codemirror_mode": {
    "name": "ipython",
    "version": 3
   },
   "file_extension": ".py",
   "mimetype": "text/x-python",
   "name": "python",
   "nbconvert_exporter": "python",
   "pygments_lexer": "ipython3",
   "version": "3.6.0"
  }
 },
 "nbformat": 4,
 "nbformat_minor": 1
}