{
 "cells": [
  {
   "cell_type": "markdown",
   "metadata": {},
   "source": [
    "# Python for Scientists"
   ]
  },
  {
   "cell_type": "markdown",
   "metadata": {},
   "source": [
    "This notebook came to life during a python-course for scientists at University of Heidelberg, Germany. The lecture can be found [online](http://wwwstaff.ari.uni-heidelberg.de/kruijssen/pycourse/), was given by [Diederik Kruijssen](http://www.diederikkruijssen.com/) and is based on a [course](http://www2.mpia-hd.mpg.de/~robitaille/PY4SCI_SS_2015/) created by [Thomas Robitaille](http://www.thomasrobitaille.com) who was astrophysicist at Max Planck Institute for Astronomy in Heidelberg and one of the co-ordinators and led developers for the [Astropy](http://www.astropy.org) project.\n",
    "\n",
    "The snipets in here are my personal notes on the course.\n",
    "\n",
    "Useful links in general: \n",
    "- [PEP 8 -- Style Guide for Python Code](https://www.python.org/dev/peps/pep-0008/)"
   ]
  },
  {
   "cell_type": "markdown",
   "metadata": {},
   "source": [
    "## Basics"
   ]
  },
  {
   "cell_type": "markdown",
   "metadata": {},
   "source": [
    "## Complex Numbers"
   ]
  },
  {
   "cell_type": "code",
   "execution_count": 1,
   "metadata": {
    "collapsed": false
   },
   "outputs": [
    {
     "name": "stdout",
     "output_type": "stream",
     "text": [
      "(-9+13j)\n"
     ]
    }
   ],
   "source": [
    "# Complex Numbers are manipulated as other number +,-,*,**,/ (except //)\n",
    "c = complex(3., 4.) * complex(1., 3.)\n",
    "print(c)"
   ]
  },
  {
   "cell_type": "code",
   "execution_count": 2,
   "metadata": {
    "collapsed": false,
    "scrolled": true
   },
   "outputs": [
    {
     "name": "stdout",
     "output_type": "stream",
     "text": [
      "-9.0\n",
      "13.0\n",
      "<class 'float'>\n",
      "<class 'float'>\n"
     ]
    }
   ],
   "source": [
    "# Access the numbers seperately\n",
    "print(c.real)\n",
    "print(c.imag)\n",
    "\n",
    "# Real and Imaginary Part are floats\n",
    "print(type(c.real))\n",
    "print(type(c.imag))"
   ]
  },
  {
   "cell_type": "markdown",
   "metadata": {},
   "source": [
    "## Lists"
   ]
  },
  {
   "cell_type": "code",
   "execution_count": 3,
   "metadata": {
    "collapsed": false
   },
   "outputs": [
    {
     "name": "stdout",
     "output_type": "stream",
     "text": [
      "Hello, world!\n",
      "Hello, world!\n"
     ]
    }
   ],
   "source": [
    "#Given string a, make new string without the word egg\n",
    "a = \"Hello, egg world!\"\n",
    "\n",
    "# long solution with split and iteration \n",
    "# would catch egg at every position\n",
    "result = []\n",
    "b = a.split()\n",
    "for i in b: \n",
    "    if i == 'egg':\n",
    "        continue\n",
    "    else: \n",
    "        result.append(i)\n",
    "print(\" \".join(result))\n",
    "\n",
    "# one-line-solution: \n",
    "print(\" \".join(a.split(\" egg \")))"
   ]
  },
  {
   "cell_type": "code",
   "execution_count": 4,
   "metadata": {
    "collapsed": false
   },
   "outputs": [
    {
     "data": {
      "text/plain": [
       "8"
      ]
     },
     "execution_count": 4,
     "metadata": {},
     "output_type": "execute_result"
    }
   ],
   "source": [
    "# Find the number of times A appears in s\n",
    "\n",
    "s = \"CAGTACCAAGTGAAAGAT\"\n",
    "\n",
    "s.count('A')"
   ]
  },
  {
   "cell_type": "code",
   "execution_count": 5,
   "metadata": {
    "collapsed": false
   },
   "outputs": [
    {
     "name": "stdout",
     "output_type": "stream",
     "text": [
      "[1, 2, 3, 4, 5, 6]\n",
      "[1, 2, 3, 4, 5, 6]\n"
     ]
    }
   ],
   "source": [
    "# Make a new list from two existing ones: \n",
    "\n",
    "a = [1, 2, 3]\n",
    "b = [4, 5, 6]\n",
    "\n",
    "print(a + b) # adding lists is extending by default\n",
    "a.extend(b) # remember, no return value\n",
    "print(a)"
   ]
  },
  {
   "cell_type": "markdown",
   "metadata": {},
   "source": [
    "## Dictionaries"
   ]
  },
  {
   "cell_type": "code",
   "execution_count": 6,
   "metadata": {
    "collapsed": false
   },
   "outputs": [
    {
     "name": "stdout",
     "output_type": "stream",
     "text": [
      "Hello world today is it nice outside\n"
     ]
    }
   ],
   "source": [
    "# Make your own dictionary to translate English words into German\n",
    "\n",
    "mydict = {'Hallo': 'Hello',\n",
    "          'Welt': 'world',\n",
    "          'es': 'it',\n",
    "          'ist': 'is',\n",
    "          'schön': 'nice',\n",
    "          'heute':'today',\n",
    "          'draußen': 'outside'}\n",
    "\n",
    "sentence = \"Hallo Welt heute ist es schön draußen\"\n",
    "wordlist = sentence.split()\n",
    "result = []\n",
    "for i in wordlist:\n",
    "    result.append(mydict[i])\n",
    "print(\" \".join(result))"
   ]
  },
  {
   "cell_type": "code",
   "execution_count": 7,
   "metadata": {
    "collapsed": false
   },
   "outputs": [
    {
     "name": "stdout",
     "output_type": "stream",
     "text": [
      "The Zen of Python, by Tim Peters\n",
      "\n",
      "Beautiful is better than ugly.\n",
      "Explicit is better than implicit.\n",
      "Simple is better than complex.\n",
      "Complex is better than complicated.\n",
      "Flat is better than nested.\n",
      "Sparse is better than dense.\n",
      "Readability counts.\n",
      "Special cases aren't special enough to break the rules.\n",
      "Although practicality beats purity.\n",
      "Errors should never pass silently.\n",
      "Unless explicitly silenced.\n",
      "In the face of ambiguity, refuse the temptation to guess.\n",
      "There should be one-- and preferably only one --obvious way to do it.\n",
      "Although that way may not be obvious at first unless you're Dutch.\n",
      "Now is better than never.\n",
      "Although never is often better than *right* now.\n",
      "If the implementation is hard to explain, it's a bad idea.\n",
      "If the implementation is easy to explain, it may be a good idea.\n",
      "Namespaces are one honking great idea -- let's do more of those!\n"
     ]
    }
   ],
   "source": [
    "# Python comes with built-in philosophy of programming :D \n",
    "import this"
   ]
  },
  {
   "cell_type": "markdown",
   "metadata": {},
   "source": [
    "## Cryptography Practice\n",
    "\n",
    "The following snippets are encrypted with the Ceasar cipher, wich is basically shifting all letters of the alphabet by a fixed value. "
   ]
  },
  {
   "cell_type": "code",
   "execution_count": 8,
   "metadata": {
    "collapsed": false
   },
   "outputs": [
    {
     "name": "stdout",
     "output_type": "stream",
     "text": [
      "congratulations you have succeeded in decrypting the string\n"
     ]
    }
   ],
   "source": [
    "encrypted = \"pbatenghyngvbaf lbh unir fhpprrqrq va qrpelcgvat gur fgevat\"\n",
    "decrypted = \"\"\n",
    "abc = \"abcdefghijklmnopqrstuvwxyz\"\n",
    "letters = list(abc)\n",
    "shift = 13\n",
    "\n",
    "for i in range(len(encrypted)):\n",
    "    if(encrypted[i] == ' '):\n",
    "        decrypted += \" \"\n",
    "        continue\n",
    "    else:\n",
    "        # find the index of the letter in the alphabet:\n",
    "        index = 0\n",
    "        for j in range(len(letters)):\n",
    "            if letters[j] == encrypted[i]:\n",
    "                index = j\n",
    "                break\n",
    "            else: \n",
    "                continue\n",
    "                \n",
    "        # thift the found index by shift=13:\n",
    "        index = (index - shift)%(len(abc))\n",
    "        \n",
    "        #now decrypt and add numbers to result string\n",
    "        decrypted += letters[index]\n",
    "\n",
    "#show the result which should be the decrypted string:        \n",
    "print(decrypted)"
   ]
  },
  {
   "cell_type": "code",
   "execution_count": 9,
   "metadata": {
    "collapsed": false
   },
   "outputs": [
    {
     "name": "stdout",
     "output_type": "stream",
     "text": [
      "0 gwc uivioml bw nqvl bpm zqopb apqnb\n",
      "1 fvb thuhnlk av mpuk aol ypnoa zopma\n",
      "2 eua sgtgmkj zu lotj znk xomnz ynolz\n",
      "3 dtz rfsflji yt knsi ymj wnlmy xmnky\n",
      "4 csy qerekih xs jmrh xli vmklx wlmjx\n",
      "5 brx pdqdjhg wr ilqg wkh uljkw vkliw\n",
      "6 aqw ocpcigf vq hkpf vjg tkijv ujkhv\n",
      "7 zpv nbobhfe up gjoe uif sjhiu tijgu\n",
      "8 you managed to find the right shift\n",
      "9 xnt lzmzfdc sn ehmc sgd qhfgs rghes\n",
      "10 wms kylyecb rm dglb rfc pgefr qfgdr\n",
      "11 vlr jxkxdba ql cfka qeb ofdeq pefcq\n",
      "12 ukq iwjwcaz pk bejz pda necdp odebp\n",
      "13 tjp hvivbzy oj adiy ocz mdbco ncdao\n",
      "14 sio guhuayx ni zchx nby lcabn mbczn\n",
      "15 rhn ftgtzxw mh ybgw max kbzam labym\n",
      "16 qgm esfsywv lg xafv lzw jayzl kzaxl\n",
      "17 pfl drerxvu kf wzeu kyv izxyk jyzwk\n",
      "18 oek cqdqwut je vydt jxu hywxj ixyvj\n",
      "19 ndj bpcpvts id uxcs iwt gxvwi hwxui\n",
      "20 mci aobousr hc twbr hvs fwuvh gvwth\n",
      "21 lbh znantrq gb svaq gur evtug fuvsg\n",
      "22 kag ymzmsqp fa ruzp ftq dustf eturf\n",
      "23 jzf xlylrpo ez qtyo esp ctrse dstqe\n",
      "24 iye wkxkqon dy psxn dro bsqrd crspd\n",
      "25 hxd vjwjpnm cx orwm cqn arpqc bqroc\n"
     ]
    }
   ],
   "source": [
    "#For part 2, the shift is unknown, so we iterate over every possible shift:\n",
    "encrypted = \"gwc uivioml bw nqvl bpm zqopb apqnb\"\n",
    "decrypted = \"\"\n",
    "abc = \"abcdefghijklmnopqrstuvwxyz\"\n",
    "letters = list(abc)\n",
    "\n",
    "for shift in range(len(abc)):\n",
    "    decrypted = \"\"\n",
    "    for i in range(len(encrypted)):\n",
    "        if(encrypted[i] == ' '):\n",
    "            decrypted += \" \"\n",
    "            continue\n",
    "        else:\n",
    "            # find the index of the letter in the alphabet:\n",
    "            index = 0\n",
    "            for j in range(len(letters)):\n",
    "                if letters[j] == encrypted[i]:\n",
    "                    index = j\n",
    "                    break\n",
    "                else: \n",
    "                    continue\n",
    "\n",
    "            # thift the found index by shift=13:\n",
    "            index = (index - shift)%(len(abc))\n",
    "\n",
    "            #now decrypt and add numbers to result string\n",
    "            decrypted += letters[index]\n",
    "    #if ('shift' in decrypted): #this makes it easy if we know one word\n",
    "    print(shift, decrypted)\n",
    "    \n",
    "#Being able to read only one line, the shift is 8"
   ]
  },
  {
   "cell_type": "markdown",
   "metadata": {},
   "source": [
    "## Functions"
   ]
  },
  {
   "cell_type": "code",
   "execution_count": 28,
   "metadata": {
    "collapsed": false
   },
   "outputs": [
    {
     "name": "stdout",
     "output_type": "stream",
     "text": [
      "Your number 431 is a prime number!\n"
     ]
    },
    {
     "data": {
      "text/plain": [
       "True"
      ]
     },
     "execution_count": 28,
     "metadata": {},
     "output_type": "execute_result"
    }
   ],
   "source": [
    "# Create a function that returns True if a given number is prime number.\n",
    "\n",
    "def is_prime(n):\n",
    "    if(n == 0):\n",
    "        print(\"Funny, you chose 0. Try again.\")\n",
    "        return False;\n",
    "    elif(n == 1):\n",
    "        print(\"Funny, you chose 1. Try again.\")\n",
    "        return False;\n",
    "    for i in range(n)[2:]: \n",
    "        if(n%i == 0):\n",
    "            print(\"Sorry,\", i, \"divides your number \", n, \".\")\n",
    "            return False\n",
    "    print(\"Your number\", n, \"is a prime number!\")\n",
    "    return True\n",
    "\n",
    "is_prime(431)"
   ]
  },
  {
   "cell_type": "code",
   "execution_count": 30,
   "metadata": {
    "collapsed": false
   },
   "outputs": [
    {
     "data": {
      "text/plain": [
       "120"
      ]
     },
     "execution_count": 30,
     "metadata": {},
     "output_type": "execute_result"
    }
   ],
   "source": [
    "# Create a function to calculate the factorial of a given number\n",
    "\n",
    "def factorial(n):\n",
    "    if(n==1):\n",
    "        return 1\n",
    "    else:\n",
    "        return n*factorial(n-1)\n",
    "\n",
    "factorial(5)"
   ]
  },
  {
   "cell_type": "code",
   "execution_count": 31,
   "metadata": {
    "collapsed": false
   },
   "outputs": [
    {
     "data": {
      "text/plain": [
       "4.333333333333333"
      ]
     },
     "execution_count": 31,
     "metadata": {},
     "output_type": "execute_result"
    }
   ],
   "source": [
    "# Write a function that returns the mean of a given list of values\n",
    "\n",
    "l = [1, 3, 4, 5, 6, 7]\n",
    "\n",
    "def mean(l):\n",
    "    sum = 0\n",
    "    for i in l:\n",
    "        sum += i\n",
    "    return sum/len(l)\n",
    "\n",
    "mean(l)"
   ]
  },
  {
   "cell_type": "markdown",
   "metadata": {},
   "source": [
    "## Reading Files"
   ]
  },
  {
   "cell_type": "code",
   "execution_count": null,
   "metadata": {
    "collapsed": true
   },
   "outputs": [],
   "source": [
    "# Read a file by creating a file object: \n",
    "f = open('data/data.txt', 'r')\n",
    "# f is not the data but a file handle which points to the file\n",
    "# check this with: type(f)\n",
    "data = f.read() \n",
    "# this reads the whole file \n",
    "# and puts the contents inside one string called data\n",
    "# after finishing, the file hanlde f points to the end of the file\n",
    "\n",
    "f.close()\n",
    "# call this after finishing, and for saving the file"
   ]
  },
  {
   "cell_type": "code",
   "execution_count": null,
   "metadata": {
    "collapsed": true
   },
   "outputs": [],
   "source": [
    "# To read the file line by line:\n",
    "f = open('data/data.txt', 'r')\n",
    "for line in f:\n",
    "    print(repr(line))\n",
    "    line = line.strip() # gets rid of \\n at the end of each line\n",
    "    columns = line.split() # splits data in a list called columns"
   ]
  },
  {
   "cell_type": "code",
   "execution_count": null,
   "metadata": {
    "collapsed": true
   },
   "outputs": [],
   "source": [
    "# All together: \n",
    "\n",
    "# Open file\n",
    "f = open('data/data.txt', 'r')\n",
    "\n",
    "# Read and ignore header lines\n",
    "header1 = f.readline() #.readline() only reads one line at the time\n",
    "header2 = f.readline()\n",
    "header3 = f.readline()\n",
    "\n",
    "# Loop over lines and extract variables of interest\n",
    "for line in f:\n",
    "    line = line.strip()\n",
    "    columns = line.split()\n",
    "    name = columns[2]\n",
    "    jmag = float(columns[3])\n",
    "    print(name, jmag)\n",
    "\n",
    "# Close file\n",
    "f.close()"
   ]
  },
  {
   "cell_type": "markdown",
   "metadata": {},
   "source": [
    "## Writing Files"
   ]
  },
  {
   "cell_type": "code",
   "execution_count": null,
   "metadata": {
    "collapsed": true
   },
   "outputs": [],
   "source": [
    "f = open('data_new1.txt', 'w') #open a new file in write mode\n",
    "f.write(\"Hello, World!\\n\") #write a line to the file\n",
    "f.writelines(['spam\\n', 'egg\\n', 'spam\\n']) #writelines takes a list of strings\n",
    "f.close() # close the file to save it"
   ]
  },
  {
   "cell_type": "code",
   "execution_count": null,
   "metadata": {
    "collapsed": true
   },
   "outputs": [],
   "source": [
    "# the with-statement is a \"context manager\"\n",
    "# opens a file and holds it as f, closes when whith block ends\n",
    "\n",
    "with open('data/data_new.txt', 'w') as f:\n",
    "    f.write('spam\\n')"
   ]
  },
  {
   "cell_type": "code",
   "execution_count": null,
   "metadata": {
    "collapsed": true
   },
   "outputs": [],
   "source": [
    "# Exercise on extracting two colums out of four and saving in new file\n",
    "\n",
    "# Open file\n",
    "f = open('data/autofahrt.txt', 'r')\n",
    "w = open('data/autofahrt_extract.txt', 'w')\n",
    "\n",
    "# Read and ignore header lines\n",
    "header1 = f.readline()\n",
    "header2 = f.readline()\n",
    "\n",
    "# Loop over lines and extract variables of interest\n",
    "for line in f:\n",
    "    line = line.strip()\n",
    "    columns = line.split()\n",
    "    time = columns[0]\n",
    "    a = float(columns[1])\n",
    "    b = float(columns[0])\n",
    "    \n",
    "    w.write(str(a) + \", \" +  str(b) + \"\\n\")\n",
    "\n",
    "# Close the files\n",
    "f.close()\n",
    "w.close()"
   ]
  },
  {
   "cell_type": "markdown",
   "metadata": {
    "collapsed": true
   },
   "source": [
    "## String formatting"
   ]
  },
  {
   "cell_type": "code",
   "execution_count": 6,
   "metadata": {
    "collapsed": false
   },
   "outputs": [
    {
     "data": {
      "text/plain": [
       "'0.3333333333333333 0.3333333333333333 2.0'"
      ]
     },
     "execution_count": 6,
     "metadata": {},
     "output_type": "execute_result"
    }
   ],
   "source": [
    "\"{0} {0} {2}\".format(1./3., 2./7., 2.)\n",
    "# values in {} refer to position in argument list"
   ]
  },
  {
   "cell_type": "code",
   "execution_count": 7,
   "metadata": {
    "collapsed": false
   },
   "outputs": [
    {
     "data": {
      "text/plain": [
       "'     0.333'"
      ]
     },
     "execution_count": 7,
     "metadata": {},
     "output_type": "execute_result"
    }
   ],
   "source": [
    "\"{0:10.3f}\".format(1./3.)\n",
    "# 0 for position in argument list\n",
    "# 10 total length of the string\n",
    "# 3 number of decimal places\n",
    "# f for floating point number"
   ]
  },
  {
   "cell_type": "code",
   "execution_count": 8,
   "metadata": {
    "collapsed": false
   },
   "outputs": [
    {
     "data": {
      "text/plain": [
       "'0000000004'"
      ]
     },
     "execution_count": 8,
     "metadata": {},
     "output_type": "execute_result"
    }
   ],
   "source": [
    "\"{0:010d}\".format(4)\n",
    "# add leading zeros\n",
    "# d for integer"
   ]
  },
  {
   "cell_type": "code",
   "execution_count": 12,
   "metadata": {
    "collapsed": false
   },
   "outputs": [
    {
     "data": {
      "text/plain": [
       "'4         '"
      ]
     },
     "execution_count": 12,
     "metadata": {},
     "output_type": "execute_result"
    }
   ],
   "source": [
    "\"{variable:<10d}\".format(variable=4)\n",
    "# align to the left\n",
    "# passing variables by name is possible"
   ]
  },
  {
   "cell_type": "code",
   "execution_count": 16,
   "metadata": {
    "collapsed": false
   },
   "outputs": [
    {
     "data": {
      "text/plain": [
       "'08.07.2013'"
      ]
     },
     "execution_count": 16,
     "metadata": {},
     "output_type": "execute_result"
    }
   ],
   "source": [
    "\"{day:02d}.{month:02d}.{year:04d}\".format(year=2013, month=7, day=8)"
   ]
  },
  {
   "cell_type": "code",
   "execution_count": 35,
   "metadata": {
    "collapsed": false
   },
   "outputs": [
    {
     "data": {
      "text/plain": [
       "'2017-03-28 16:50:47.804463'"
      ]
     },
     "execution_count": 35,
     "metadata": {},
     "output_type": "execute_result"
    }
   ],
   "source": [
    "import datetime\n",
    "str(datetime.datetime.now())"
   ]
  },
  {
   "cell_type": "markdown",
   "metadata": {},
   "source": [
    "## Memory aspects"
   ]
  },
  {
   "cell_type": "code",
   "execution_count": 51,
   "metadata": {
    "collapsed": false
   },
   "outputs": [
    {
     "data": {
      "text/plain": [
       "(4508514784, 4539104072, 4511150912)"
      ]
     },
     "execution_count": 51,
     "metadata": {},
     "output_type": "execute_result"
    }
   ],
   "source": [
    "# Python has built in id function that tells identity of its argument\n",
    "a = 1\n",
    "b = [2,3,4]\n",
    "c = 'string'\n",
    "id(a), id(b), id(c)"
   ]
  },
  {
   "cell_type": "code",
   "execution_count": 52,
   "metadata": {
    "collapsed": false
   },
   "outputs": [
    {
     "data": {
      "text/plain": [
       "4539104072"
      ]
     },
     "execution_count": 52,
     "metadata": {},
     "output_type": "execute_result"
    }
   ],
   "source": [
    "# if we want to copy a list, we cant just assign\n",
    "# because that will create a reference to the same object in memory:\n",
    "d = b\n",
    "id(b)"
   ]
  },
  {
   "cell_type": "code",
   "execution_count": 53,
   "metadata": {
    "collapsed": false
   },
   "outputs": [
    {
     "data": {
      "text/plain": [
       "[2, 3, 4, 42]"
      ]
     },
     "execution_count": 53,
     "metadata": {},
     "output_type": "execute_result"
    }
   ],
   "source": [
    "# so manipulating d affects b\n",
    "b.append(42)\n",
    "d"
   ]
  },
  {
   "cell_type": "code",
   "execution_count": 55,
   "metadata": {
    "collapsed": false
   },
   "outputs": [
    {
     "data": {
      "text/plain": [
       "([2, 3, 4, 42, 13], [2, 3, 4, 42, 13, 13], 4539384520)"
      ]
     },
     "execution_count": 55,
     "metadata": {},
     "output_type": "execute_result"
    }
   ],
   "source": [
    "# to truly copy, we have to deepcopy\n",
    "from copy import deepcopy\n",
    "e = deepcopy(b)\n",
    "b.append(13)\n",
    "e, b, id(e)"
   ]
  },
  {
   "cell_type": "code",
   "execution_count": 56,
   "metadata": {
    "collapsed": false
   },
   "outputs": [
    {
     "data": {
      "text/plain": [
       "4539553544"
      ]
     },
     "execution_count": 56,
     "metadata": {},
     "output_type": "execute_result"
    }
   ],
   "source": [
    "# Note that slicing usually creates a copy, too.\n",
    "f = e[:]\n",
    "id(f)"
   ]
  },
  {
   "cell_type": "code",
   "execution_count": 57,
   "metadata": {
    "collapsed": true
   },
   "outputs": [],
   "source": [
    "# immutable objects: float, int, string\n",
    "# mutable : list, dictionary\n",
    "# passing variables to function passes them by reference\n",
    "# some methods modify objects in-place: a.append(), modifies a\n",
    "# other methods return a copy: string.upper() returns a copy"
   ]
  },
  {
   "cell_type": "code",
   "execution_count": 66,
   "metadata": {
    "collapsed": true
   },
   "outputs": [],
   "source": [
    "# with numpy, pay attention: \n",
    "# the reason for the following differences is great performance with numpy!\n",
    "import numpy as np"
   ]
  },
  {
   "cell_type": "code",
   "execution_count": 59,
   "metadata": {
    "collapsed": false
   },
   "outputs": [
    {
     "data": {
      "text/plain": [
       "array([0, 1, 2, 1, 4, 5, 6, 7, 8, 9])"
      ]
     },
     "execution_count": 59,
     "metadata": {},
     "output_type": "execute_result"
    }
   ],
   "source": [
    "x = np.arange(10)\n",
    "y = x\n",
    "y[3] = 1\n",
    "x\n",
    "# Behavior from lists"
   ]
  },
  {
   "cell_type": "code",
   "execution_count": 61,
   "metadata": {
    "collapsed": false
   },
   "outputs": [
    {
     "data": {
      "text/plain": [
       "array([0, 1, 2, 3, 4, 5, 1, 7, 8, 9])"
      ]
     },
     "execution_count": 61,
     "metadata": {},
     "output_type": "execute_result"
    }
   ],
   "source": [
    "x = np.arange(10)\n",
    "y = x[::2]\n",
    "y[3] = 1\n",
    "x\n",
    "# with numpy a slice is still a reference, not a copy!"
   ]
  },
  {
   "cell_type": "code",
   "execution_count": 62,
   "metadata": {
    "collapsed": false
   },
   "outputs": [
    {
     "data": {
      "text/plain": [
       "array([0, 0, 0, 0, 0, 5, 6, 7, 8, 9])"
      ]
     },
     "execution_count": 62,
     "metadata": {},
     "output_type": "execute_result"
    }
   ],
   "source": [
    "# This can be used in masking\n",
    "x = np.arange(10)\n",
    "x[x < 5] = 0.\n",
    "x"
   ]
  },
  {
   "cell_type": "code",
   "execution_count": 64,
   "metadata": {
    "collapsed": false
   },
   "outputs": [
    {
     "data": {
      "text/plain": [
       "(array([0, 1, 2, 3, 4, 5, 6, 7, 8, 9]), array([9, 3, 2, 2]))"
      ]
     },
     "execution_count": 64,
     "metadata": {},
     "output_type": "execute_result"
    }
   ],
   "source": [
    "# One exception to the referencing: \n",
    "x = np.arange(10)\n",
    "y = x[[1,3,2,2]]  # returns a new array, not a view\n",
    "y[0] = 9\n",
    "x, y\n",
    "# However, be aware that the view is actually pointing to a subset of the original array"
   ]
  },
  {
   "cell_type": "code",
   "execution_count": 65,
   "metadata": {
    "collapsed": false
   },
   "outputs": [
    {
     "data": {
      "text/plain": [
       "(array([0, 1, 2, 3, 4, 5, 6, 7, 8, 9]),\n",
       " array([-1,  1,  2,  3,  4,  5,  6,  7,  8,  9]))"
      ]
     },
     "execution_count": 65,
     "metadata": {},
     "output_type": "execute_result"
    }
   ],
   "source": [
    "# Force a copy with numpy\n",
    "x = np.arange(10)\n",
    "y = x.copy()\n",
    "y[0] = -1\n",
    "x, y"
   ]
  },
  {
   "cell_type": "markdown",
   "metadata": {},
   "source": [
    "**A nice little exercise to think through**\n",
    "\n",
    "\n",
    "What will ``a`` be after the following?\n",
    "\n",
    "    a = [1, 3., [1, 2, 3], 'hello']\n",
    "    b = a[0]\n",
    "    b = 4.\n",
    "\n",
    "What will ``c`` be after the following?\n",
    "\n",
    "    c = [1, 3., [1, 2, 3], 'hello']\n",
    "    d = c[2]\n",
    "    d.append(8)\n",
    "\n",
    "What will ``e`` be after the following?\n",
    "\n",
    "    e = [1, 3., [1, 2, 3], 'hello']\n",
    "    f = e[2]\n",
    "    f = [1, 2]\n",
    "\n",
    "What will ``g`` be after the following?\n",
    "\n",
    "    g = [1, 2, 3, 4]\n",
    "    h = g[::2]\n",
    "    h[0] = 9\n",
    "\n",
    "What will ``i`` be after the following?\n",
    "\n",
    "    import numpy as np\n",
    "    i = np.array([1, 2, 3, 4])\n",
    "    j = i[::2]\n",
    "    j[0] = 9"
   ]
  },
  {
   "cell_type": "markdown",
   "metadata": {},
   "source": [
    "## Scipy Fitting\n",
    "\n",
    "Examples of the functionality include:\n",
    "- Integration (scipy.integrate)\n",
    "- Optimization/Fitting (scipy.optimize)\n",
    "- Interpolation (scipy.interpolate)\n",
    "- Fourier Transforms (scipy.fftpack)\n",
    "- Signal Processing (scipy.signal)\n",
    "- Linear Algebra (scipy.linalg)\n",
    "- Spatial data structures and algorithms (scipy.spatial)\n",
    "- Statistics (scipy.stats)\n",
    "- Multi-dimensional image processing (scipy.ndimage)"
   ]
  },
  {
   "cell_type": "code",
   "execution_count": 67,
   "metadata": {
    "collapsed": true
   },
   "outputs": [],
   "source": [
    "# Routines for fitting:\n",
    "import numpy as np\n",
    "from scipy.optimize import curve_fit\n",
    "%matplotlib inline\n",
    "import numpy as np\n",
    "import matplotlib.pyplot as plt"
   ]
  },
  {
   "cell_type": "code",
   "execution_count": 69,
   "metadata": {
    "collapsed": false
   },
   "outputs": [
    {
     "data": {
      "text/plain": [
       "[<matplotlib.lines.Line2D at 0x1111ba400>]"
      ]
     },
     "execution_count": 69,
     "metadata": {},
     "output_type": "execute_result"
    },
    {
     "data": {
      "image/png": "[encoded data removed]",
      "text/plain": [
       "<matplotlib.figure.Figure at 0x111137d68>"
      ]
     },
     "metadata": {},
     "output_type": "display_data"
    }
   ],
   "source": [
    "# Fake dataset with some noise:\n",
    "x = np.random.uniform(0., 100., 100)\n",
    "y = 3. * x + 2. + np.random.normal(0., 10., 100)\n",
    "plt.plot(x, y, '.')"
   ]
  },
  {
   "cell_type": "markdown",
   "metadata": {},
   "source": [
    "**Important Note:**  curve_fit by default uses sigma just as weights, i.e., as hints how important a point should be in the least-squares computation. To compute the covariance matrix, it then estimates the actual error essentially from the scatter in the data. If, however, your data points come with (reliable) error estimates, that actually throws away a lot of information, and the covariance matrix is less expressive than it could be. To make curve_fit treat its sigma argument as actual error estimates and use their absolute (rather than relative, as with weights) values in pcov calculation, just pass absolute_sigma=True."
   ]
  },
  {
   "cell_type": "code",
   "execution_count": 71,
   "metadata": {
    "collapsed": false
   },
   "outputs": [
    {
     "data": {
      "text/plain": [
       "<Container object of 3 artists>"
      ]
     },
     "execution_count": 71,
     "metadata": {},
     "output_type": "execute_result"
    },
    {
     "data": {
      "image/png": "[encoded data removed]",
      "text/plain": [
       "<matplotlib.figure.Figure at 0x111337470>"
      ]
     },
     "metadata": {},
     "output_type": "display_data"
    }
   ],
   "source": [
    "# Exercise on Fitting:\n",
    "\n",
    "# Generate random data points: \n",
    "x = np.random.uniform(0., 10., 100)\n",
    "y = np.polyval([1, 2, -3], x) + np.random.normal(0., 10., 100)\n",
    "e = np.random.uniform(5, 10, 100)\n",
    "plt.errorbar(x,y,e, linestyle='none', marker='.')"
   ]
  },
  {
   "cell_type": "code",
   "execution_count": 82,
   "metadata": {
    "collapsed": false
   },
   "outputs": [
    {
     "data": {
      "text/plain": [
       "[<matplotlib.lines.Line2D at 0x112486400>]"
      ]
     },
     "execution_count": 82,
     "metadata": {},
     "output_type": "execute_result"
    },
    {
     "data": {
      "image/png": "[encoded data removed]",
      "text/plain": [
       "<matplotlib.figure.Figure at 0x1120bd630>"
      ]
     },
     "metadata": {},
     "output_type": "display_data"
    }
   ],
   "source": [
    "# Fit a line and a parabola to it and overplot the two models on top of the data:\n",
    "\n",
    "def parabola(x,a,b,c):\n",
    "    return a*(x-c)**2+b\n",
    "\n",
    "def line(x,m,t):\n",
    "    return m*x+t\n",
    "\n",
    "popt1, pcov1 = curve_fit(parabola, x, y, sigma=e)\n",
    "popt2, pcov2 = curve_fit(line, x, y, sigma=e)\n",
    "\n",
    "plt.errorbar(x, y, e, linestyle='none', marker='.')\n",
    "plt.plot(x,parabola(x, *popt1), color='orange', marker='.', linestyle='none')\n",
    "plt.plot(x,line(x, *popt2), color='green')"
   ]
  },
  {
   "cell_type": "code",
   "execution_count": 91,
   "metadata": {
    "collapsed": false
   },
   "outputs": [
    {
     "data": {
      "text/plain": [
       "[<matplotlib.lines.Line2D at 0x111d490b8>]"
      ]
     },
     "execution_count": 91,
     "metadata": {},
     "output_type": "execute_result"
    },
    {
     "data": {
      "image/png": "[encoded data removed]",
      "text/plain": [
       "<matplotlib.figure.Figure at 0x112e18358>"
      ]
     },
     "metadata": {},
     "output_type": "display_data"
    }
   ],
   "source": [
    "# The following code reads in the file and removes bad values\n",
    "import numpy as np\n",
    "date, temperature = np.loadtxt('data/munich_temperatures_average_with_bad_data.txt', unpack=True)\n",
    "keep = np.abs(temperature) < 90\n",
    "date = date[keep]\n",
    "temperature = temperature[keep]\n",
    "\n",
    "# Fit function to data: \n",
    "def fit(t,a,b,c):\n",
    "    return a*np.cos(2*np.pi*t+b)+c\n",
    "# t is time in years\n",
    "\n",
    "popt, pcov = curve_fit(fit, date[5000:6500], temperature[5000:6500])\n",
    "\n",
    "plt.plot(date, temperature)\n",
    "plt.axis((2008, 2012, -15, 30))\n",
    "plt.plot(date, fit(date, *popt), linewidth=3, color='orange')"
   ]
  },
  {
   "cell_type": "code",
   "execution_count": 96,
   "metadata": {
    "collapsed": false
   },
   "outputs": [
    {
     "name": "stdout",
     "output_type": "stream",
     "text": [
      "Best fit parameters: a,b,c\n",
      " [-10.30350917  12.32100043   9.12316747]\n",
      "Hottest daily average: -1.18034170243\n",
      "Coldest daily average: 19.4266766365\n"
     ]
    }
   ],
   "source": [
    "# What are the best-fit values of the parameters? \n",
    "print(\"Best fit parameters: a,b,c\\n\", popt)\n",
    "\n",
    "# What is the overall average temperature in Munich, \n",
    "# That's encapsulated in parameter c, the offset of the cos-function\n",
    "\n",
    "# and what are the typical daily average values predicted by the model for the coldest and hottest time of year? \n",
    "print(\"Hottest daily average:\", popt[2]+popt[0])\n",
    "print(\"Coldest daily average:\", popt[2]-popt[0])\n",
    "\n",
    "# What is the meaning of the b parameter, and does its value make sense?\n",
    "# b is the time-offset of the hottest month to the start of the year 2012\n",
    "# it makes sense, because september is usually hottest"
   ]
  },
  {
   "cell_type": "code",
   "execution_count": null,
   "metadata": {
    "collapsed": true
   },
   "outputs": [],
   "source": []
  }
 ],
 "metadata": {
  "kernelspec": {
   "display_name": "Python 3",
   "language": "python",
   "name": "python3"
  },
  "language_info": {
   "codemirror_mode": {
    "name": "ipython",
    "version": 3
   },
   "file_extension": ".py",
   "mimetype": "text/x-python",
   "name": "python",
   "nbconvert_exporter": "python",
   "pygments_lexer": "ipython3",
   "version": "3.6.0"
  }
 },
 "nbformat": 4,
 "nbformat_minor": 1
}